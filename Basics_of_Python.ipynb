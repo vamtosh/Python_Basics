{
  "nbformat": 4,
  "nbformat_minor": 0,
  "metadata": {
    "colab": {
      "name": "Basics_of_Python.ipynb",
      "provenance": [],
      "collapsed_sections": [],
      "include_colab_link": true
    },
    "kernelspec": {
      "name": "python3",
      "display_name": "Python 3"
    }
  },
  "cells": [
    {
      "cell_type": "markdown",
      "metadata": {
        "id": "view-in-github",
        "colab_type": "text"
      },
      "source": [
        "<a href=\"https://colab.research.google.com/github/vamtosh/Python_Basics/blob/master/Basics_of_Python.ipynb\" target=\"_parent\"><img src=\"https://colab.research.google.com/assets/colab-badge.svg\" alt=\"Open In Colab\"/></a>"
      ]
    },
    {
      "cell_type": "markdown",
      "metadata": {
        "id": "3qbnjuFQXo8X",
        "colab_type": "text"
      },
      "source": [
        "### So, why Python and not R?  \n",
        "\n",
        "**Versatile:**  Python can be used beyond data analysis.  Build web sites in Python, connect to almost any data source, leverage an incredible number of systems and tools as many of them expose a python api. You can visualize results, you can implement arbitrary algorithms, you can compile it to get good performance, etc. You can do some of these in R too, but the breadth and scope of Python is larger.  \n",
        "**Efficient:** Python machine learning packages are also more efficient on average than their R counterparts.  \n",
        "\n",
        "**Ease of learning:** Add to that the ease of learning and using Python, and you get an environment where people can very quickly demonstrate, then productise, new ideas and new techniques.  \n",
        "\n",
        "**Library Ecosystem:** Last, but not least, Python is taking the lead over R in some machine learning areas.  For instance, a recent deep learning library such a TensorFlow exposes a Python API, but not a R API.  The Python Spark APi is also more comprehensive than the R API.  And if you really need some R package, then you can call R from Python!\n",
        "\n",
        "--source: JeanFrancoisPuget, IBM Machine Learning Team"
      ]
    },
    {
      "cell_type": "markdown",
      "metadata": {
        "id": "WBDcxMUV4469",
        "colab_type": "text"
      },
      "source": [
        "#### This module will teach you the basics of Python programming starting with the following:\n",
        "\n",
        "\n",
        "*   Data Types - Basic Syntax\n",
        "*   Data Structures such as Lists, Dictionaries\n",
        "*   Comprehensions\n",
        "*   Booleans & Conditionals\n",
        "*   Loops\n",
        "*   Functions\n",
        "*   Importing External Libraries and Help Function\n",
        "\n",
        "\n",
        "\n",
        "\n",
        "---\n",
        "\n",
        "Let's Begin!\n",
        "\n",
        "\n"
      ]
    },
    {
      "cell_type": "code",
      "metadata": {
        "id": "cj9g-1NG7P-C",
        "colab_type": "code",
        "outputId": "213220b4-6d38-4d4d-9a06-4ec2d32ba18a",
        "colab": {
          "base_uri": "https://localhost:8080/",
          "height": 35
        }
      },
      "source": [
        "print(\"Hello World!\")"
      ],
      "execution_count": 1,
      "outputs": [
        {
          "output_type": "stream",
          "text": [
            "Hello World!\n"
          ],
          "name": "stdout"
        }
      ]
    },
    {
      "cell_type": "markdown",
      "metadata": {
        "id": "2vN9AMlL7w_l",
        "colab_type": "text"
      },
      "source": [
        "\n",
        "\n",
        "### Variable assignment\n",
        "Here we create a variable called name and assign it a value, which in this case, is a String, `Santosh`\n",
        "We create another variable age and assign it a numerical value, `30`"
      ]
    },
    {
      "cell_type": "code",
      "metadata": {
        "id": "OP74con989vI",
        "colab_type": "code",
        "colab": {}
      },
      "source": [
        "#Assigning a variable with a string value and a numeric value - Comment!\n",
        "name = 'Santosh'\n",
        "age = 35\n",
        "weight = 78.4"
      ],
      "execution_count": 0,
      "outputs": []
    },
    {
      "cell_type": "code",
      "metadata": {
        "id": "3zDIGJuW9B5O",
        "colab_type": "code",
        "outputId": "3c18f3e7-95d6-44ba-dd05-79ff64e8f160",
        "colab": {
          "base_uri": "https://localhost:8080/",
          "height": 35
        }
      },
      "source": [
        "print(name, age, weight, sep=',')"
      ],
      "execution_count": 3,
      "outputs": [
        {
          "output_type": "stream",
          "text": [
            "Santosh,35,78.4\n"
          ],
          "name": "stdout"
        }
      ]
    },
    {
      "cell_type": "markdown",
      "metadata": {
        "id": "HLDSJ4Ww9HGX",
        "colab_type": "text"
      },
      "source": [
        "What does the following code do?"
      ]
    },
    {
      "cell_type": "code",
      "metadata": {
        "id": "ajwMkDWE9VAF",
        "colab_type": "code",
        "colab": {}
      },
      "source": [
        "age = 'Santosh'\n",
        "name = 35"
      ],
      "execution_count": 0,
      "outputs": []
    },
    {
      "cell_type": "code",
      "metadata": {
        "id": "yGDvPtdn9aPo",
        "colab_type": "code",
        "outputId": "af5bb9d0-bb44-45e4-fc2e-fea9e3557522",
        "colab": {
          "base_uri": "https://localhost:8080/",
          "height": 35
        }
      },
      "source": [
        "print(name, age, sep=',')"
      ],
      "execution_count": 5,
      "outputs": [
        {
          "output_type": "stream",
          "text": [
            "35,Santosh\n"
          ],
          "name": "stdout"
        }
      ]
    },
    {
      "cell_type": "markdown",
      "metadata": {
        "id": "6wieJZlE9i38",
        "colab_type": "text"
      },
      "source": [
        "Calculations & Reassignment!"
      ]
    },
    {
      "cell_type": "code",
      "metadata": {
        "id": "X9i4ZWZ19rzE",
        "colab_type": "code",
        "outputId": "c5296623-ec96-458e-cccd-23242b77d5d0",
        "colab": {
          "base_uri": "https://localhost:8080/",
          "height": 71
        }
      },
      "source": [
        "age = 35\n",
        "print(\"Current age: \", age)\n",
        "\n",
        "age = age+5\n",
        "print(\"Age after 5 years: \", age)\n",
        "\n",
        "age-=10\n",
        "print(\"Age before 5 years: \", age)"
      ],
      "execution_count": 6,
      "outputs": [
        {
          "output_type": "stream",
          "text": [
            "Current age:  35\n",
            "Age after 5 years:  40\n",
            "Age before 5 years:  30\n"
          ],
          "name": "stdout"
        }
      ]
    },
    {
      "cell_type": "markdown",
      "metadata": {
        "id": "kScUJVtl-EIT",
        "colab_type": "text"
      },
      "source": [
        "\n",
        "\n",
        "---\n",
        "\n",
        "\n",
        "\n",
        "---\n",
        "\n",
        "\n",
        "Now let us have a look at the data types of the variables that we have created!\n",
        "\n",
        "\n"
      ]
    },
    {
      "cell_type": "code",
      "metadata": {
        "id": "7L1B0CUs-vhr",
        "colab_type": "code",
        "outputId": "0d7ac9e7-6625-4d7d-aee1-682c1ff8ab15",
        "colab": {
          "base_uri": "https://localhost:8080/",
          "height": 71
        }
      },
      "source": [
        "name = \"Santosh\"\n",
        "print(type(age), type(name), type(weight), sep='\\n')"
      ],
      "execution_count": 7,
      "outputs": [
        {
          "output_type": "stream",
          "text": [
            "<class 'int'>\n",
            "<class 'str'>\n",
            "<class 'float'>\n"
          ],
          "name": "stdout"
        }
      ]
    },
    {
      "cell_type": "code",
      "metadata": {
        "id": "VFKSLmnV-_Tl",
        "colab_type": "code",
        "outputId": "0b9aa2a1-fff8-4f99-f90e-fe033147a394",
        "colab": {
          "base_uri": "https://localhost:8080/",
          "height": 35
        }
      },
      "source": [
        "z = complex(1,3)\n",
        "print(z, \" type is: \", type(z))"
      ],
      "execution_count": 8,
      "outputs": [
        {
          "output_type": "stream",
          "text": [
            "(1+3j)  type is:  <class 'complex'>\n"
          ],
          "name": "stdout"
        }
      ]
    },
    {
      "cell_type": "code",
      "metadata": {
        "id": "cJ9XFSSABR5J",
        "colab_type": "code",
        "outputId": "bfd7754a-2259-4d32-e3c8-da9d096e9407",
        "colab": {
          "base_uri": "https://localhost:8080/",
          "height": 35
        }
      },
      "source": [
        "print(z.real, z.imag)"
      ],
      "execution_count": 9,
      "outputs": [
        {
          "output_type": "stream",
          "text": [
            "1.0 3.0\n"
          ],
          "name": "stdout"
        }
      ]
    },
    {
      "cell_type": "markdown",
      "metadata": {
        "id": "aNyjH_YWCSD-",
        "colab_type": "text"
      },
      "source": [
        "### Operations\n",
        "\n",
        "|Operation| Name | Desc |\n",
        "|---|---|---|\n",
        "|a+b| Addition | Sum of a and b|\n",
        "a - b | Subtraction | Difference of a and b \n",
        "a * b|Multiplication|Product of a and b \n",
        "a / b|True division|Quotient of a and b \n",
        "a // b|Floor division|Quotient of a and b, removing fractional parts \n",
        "a % b|Modulus|Integer remainder after division of a by b \n",
        "a ** b|Exponentiation|a raised to the power of b \n",
        "-a|Negation|The negative of a\n"
      ]
    },
    {
      "cell_type": "code",
      "metadata": {
        "id": "oAsGKx81C4g8",
        "colab_type": "code",
        "outputId": "a87bfc6e-56ca-42a4-f43a-b7c1071c592b",
        "colab": {
          "base_uri": "https://localhost:8080/",
          "height": 35
        }
      },
      "source": [
        "#Try your own examples\n",
        "\n",
        "print(4+9, 9/3, 9/2, 9//2, 9%2)"
      ],
      "execution_count": 10,
      "outputs": [
        {
          "output_type": "stream",
          "text": [
            "13 3.0 4.5 4 1\n"
          ],
          "name": "stdout"
        }
      ]
    },
    {
      "cell_type": "code",
      "metadata": {
        "id": "QAUng7-HEswR",
        "colab_type": "code",
        "outputId": "c96ddc9f-8f56-4dc9-bd26-8d0149ec4a1a",
        "colab": {
          "base_uri": "https://localhost:8080/",
          "height": 35
        }
      },
      "source": [
        "#PEMDAS - Paranthesis, Exponentiation, Multiplication, Division, Addition and Subtraction\n",
        "\n",
        "-4 + 9/3**2"
      ],
      "execution_count": 11,
      "outputs": [
        {
          "output_type": "execute_result",
          "data": {
            "text/plain": [
              "-3.0"
            ]
          },
          "metadata": {
            "tags": []
          },
          "execution_count": 11
        }
      ]
    },
    {
      "cell_type": "markdown",
      "metadata": {
        "id": "71l9zTZhFqxP",
        "colab_type": "text"
      },
      "source": [
        "Built in functions for working with numbers."
      ]
    },
    {
      "cell_type": "code",
      "metadata": {
        "id": "jhVf6dfiGb3L",
        "colab_type": "code",
        "outputId": "a5f5fd1b-9076-4b71-f297-be5f3949aa31",
        "colab": {
          "base_uri": "https://localhost:8080/",
          "height": 53
        }
      },
      "source": [
        "print(min(3,1,5))\n",
        "print(max(3,1,5))"
      ],
      "execution_count": 12,
      "outputs": [
        {
          "output_type": "stream",
          "text": [
            "1\n",
            "5\n"
          ],
          "name": "stdout"
        }
      ]
    },
    {
      "cell_type": "code",
      "metadata": {
        "id": "YUsGfzPLGfWm",
        "colab_type": "code",
        "outputId": "b999abbf-9e9d-4434-dac1-746c3e500656",
        "colab": {
          "base_uri": "https://localhost:8080/",
          "height": 35
        }
      },
      "source": [
        "print(abs(-2))"
      ],
      "execution_count": 13,
      "outputs": [
        {
          "output_type": "stream",
          "text": [
            "2\n"
          ],
          "name": "stdout"
        }
      ]
    },
    {
      "cell_type": "markdown",
      "metadata": {
        "id": "SmqctMLHG-EG",
        "colab_type": "text"
      },
      "source": [
        "## Exercise\n",
        "\n",
        "Swap the value of the 2 variables a and b"
      ]
    },
    {
      "cell_type": "code",
      "metadata": {
        "id": "6ZQYXNpsIaZp",
        "colab_type": "code",
        "colab": {}
      },
      "source": [
        "a = 3\n",
        "b = 4"
      ],
      "execution_count": 0,
      "outputs": []
    },
    {
      "cell_type": "code",
      "metadata": {
        "id": "Uu6KShVjIc7x",
        "colab_type": "code",
        "outputId": "01a76117-ec0c-4edb-8341-f2b14d974ad1",
        "colab": {
          "base_uri": "https://localhost:8080/",
          "height": 35
        }
      },
      "source": [
        "print(a,b)"
      ],
      "execution_count": 15,
      "outputs": [
        {
          "output_type": "stream",
          "text": [
            "3 4\n"
          ],
          "name": "stdout"
        }
      ]
    },
    {
      "cell_type": "markdown",
      "metadata": {
        "id": "QH8XhwoaIese",
        "colab_type": "text"
      },
      "source": [
        "Add the paranthesis to the expression below so that it evaluates to 0"
      ]
    },
    {
      "cell_type": "code",
      "metadata": {
        "id": "EfAIFYh4Iyxa",
        "colab_type": "code",
        "outputId": "245b3bdd-d22d-415f-9291-142d7d151905",
        "colab": {
          "base_uri": "https://localhost:8080/",
          "height": 35
        }
      },
      "source": [
        "8 - 3 * 2 - 1 + 1"
      ],
      "execution_count": 16,
      "outputs": [
        {
          "output_type": "execute_result",
          "data": {
            "text/plain": [
              "2"
            ]
          },
          "metadata": {
            "tags": []
          },
          "execution_count": 16
        }
      ]
    },
    {
      "cell_type": "markdown",
      "metadata": {
        "id": "6FVicL5Ysctb",
        "colab_type": "text"
      },
      "source": [
        "\n",
        "\n",
        "---\n",
        "Now let us have a look at Booleans & Conditionals\n"
      ]
    },
    {
      "cell_type": "code",
      "metadata": {
        "id": "Tt9k1KmvslHP",
        "colab_type": "code",
        "outputId": "66b2f138-8a10-457a-a23e-444a47fbf909",
        "colab": {
          "base_uri": "https://localhost:8080/",
          "height": 53
        }
      },
      "source": [
        "print(True)\n",
        "print(type(True))\n"
      ],
      "execution_count": 17,
      "outputs": [
        {
          "output_type": "stream",
          "text": [
            "True\n",
            "<class 'bool'>\n"
          ],
          "name": "stdout"
        }
      ]
    },
    {
      "cell_type": "markdown",
      "metadata": {
        "id": "mRHwDuOksr7b",
        "colab_type": "text"
      },
      "source": [
        "|Operation|\tDescription|\tOperation|\tDescription|\n",
        "|:---:|:---|:---:|:---|\n",
        "a == b|\ta equal to b\t|a != b\t|a not equal to b\t\n",
        "a < b\t|a less than b\t|a > b\t|a greater than b\t\n",
        "a <= b|\ta less than or equal to b\t|a >= b\t|a greater than or equal to b\t"
      ]
    },
    {
      "cell_type": "code",
      "metadata": {
        "id": "3PxniyBrtQCu",
        "colab_type": "code",
        "outputId": "d0997f77-7331-4e98-f1de-fad475d7a24f",
        "colab": {
          "base_uri": "https://localhost:8080/",
          "height": 53
        }
      },
      "source": [
        "a = int(input(\"Enter a number from 1 to 100: \"))\n",
        "a<50"
      ],
      "execution_count": 18,
      "outputs": [
        {
          "output_type": "stream",
          "text": [
            "Enter a number from 1 to 100: 1\n"
          ],
          "name": "stdout"
        },
        {
          "output_type": "execute_result",
          "data": {
            "text/plain": [
              "True"
            ]
          },
          "metadata": {
            "tags": []
          },
          "execution_count": 18
        }
      ]
    },
    {
      "cell_type": "markdown",
      "metadata": {
        "id": "Q0rY_n_7tzHj",
        "colab_type": "text"
      },
      "source": [
        "Combine more than one boolean operator\n",
        "We can combine boolean operators using `and`, `or`, `not`\n",
        "\n",
        "For example, to find if a number is even and greater and 10, we can combine 2 boolean operators"
      ]
    },
    {
      "cell_type": "code",
      "metadata": {
        "id": "j2EKjRqNt85P",
        "colab_type": "code",
        "outputId": "ce248933-9b4f-4505-f32a-f2053e3d4432",
        "colab": {
          "base_uri": "https://localhost:8080/",
          "height": 53
        }
      },
      "source": [
        "number = int(input(\"Enter any number less than 1000: \"))\n",
        "(number > 10) and ((number % 2) == 0)"
      ],
      "execution_count": 19,
      "outputs": [
        {
          "output_type": "stream",
          "text": [
            "Enter any number less than 1000: 1\n"
          ],
          "name": "stdout"
        },
        {
          "output_type": "execute_result",
          "data": {
            "text/plain": [
              "False"
            ]
          },
          "metadata": {
            "tags": []
          },
          "execution_count": 19
        }
      ]
    },
    {
      "cell_type": "markdown",
      "metadata": {
        "id": "yPGYbmtduPUC",
        "colab_type": "text"
      },
      "source": [
        "### Conditionals\n",
        "Booleans will not be of much use unless combined with the Conditional Statements such as `if`, `else`, `elif`\n",
        "\n",
        "`elif` is short for else if\n",
        "\n",
        "Note the indentations in the code:\n",
        "The block of code to be executed after a successful 'if' statement is indented accordingly."
      ]
    },
    {
      "cell_type": "code",
      "metadata": {
        "id": "8bFeTij8ueAc",
        "colab_type": "code",
        "outputId": "c0955940-6188-44ef-a5f9-bde4ca83cfd3",
        "colab": {
          "base_uri": "https://localhost:8080/",
          "height": 71
        }
      },
      "source": [
        "def inspect(x):\n",
        "  try:\n",
        "    if x == 0:\n",
        "      print(\"Input is zero\")\n",
        "    elif x > 0:\n",
        "      print(x, \"is positive\")\n",
        "    elif x < 0:\n",
        "      print(x, \"is negative\")\n",
        "    else:\n",
        "      print(\"This condition will never be executed\")\n",
        "  except:\n",
        "      print(x, \"is unlike anything I've ever seen...\")\n",
        "\n",
        "inspect(0)\n",
        "inspect(-15)\n",
        "inspect('ISRO')"
      ],
      "execution_count": 20,
      "outputs": [
        {
          "output_type": "stream",
          "text": [
            "Input is zero\n",
            "-15 is negative\n",
            "ISRO is unlike anything I've ever seen...\n"
          ],
          "name": "stdout"
        }
      ]
    },
    {
      "cell_type": "markdown",
      "metadata": {
        "id": "CuOwxTIhI2jM",
        "colab_type": "text"
      },
      "source": [
        "\n",
        "---\n",
        "Now let us have a look at Data Structures\n"
      ]
    },
    {
      "cell_type": "markdown",
      "metadata": {
        "id": "PE1DJthSJaAo",
        "colab_type": "text"
      },
      "source": [
        "### Lists\n",
        "\n",
        "Lists are an ordered sequence of elements. Each element or value inside a list is called an item"
      ]
    },
    {
      "cell_type": "code",
      "metadata": {
        "id": "HIWShof_KJbk",
        "colab_type": "code",
        "colab": {}
      },
      "source": [
        "days_of_the_week = ['Sunday', 'Monday', 'Tuesday', 'Wednesday', 'Thursday', 'Friday', 'Saturday']"
      ],
      "execution_count": 0,
      "outputs": []
    },
    {
      "cell_type": "code",
      "metadata": {
        "id": "euRIQv66KMRx",
        "colab_type": "code",
        "colab": {}
      },
      "source": [
        "odd_numbers_below_10 = [1,3,5,7,9]"
      ],
      "execution_count": 0,
      "outputs": []
    },
    {
      "cell_type": "code",
      "metadata": {
        "id": "gqwM3mGYKNsq",
        "colab_type": "code",
        "colab": {}
      },
      "source": [
        "#List of lists is also possible!\n",
        "\n",
        "pixels = [[100,200,240], \n",
        "          [200,255,124], \n",
        "          [100,129,149]]"
      ],
      "execution_count": 0,
      "outputs": []
    },
    {
      "cell_type": "code",
      "metadata": {
        "id": "hxm4mGsCKRM-",
        "colab_type": "code",
        "colab": {}
      },
      "source": [
        "pixels = [[100,200,240], [200,300,324], [100,129,449]] #can also be written like this"
      ],
      "execution_count": 0,
      "outputs": []
    },
    {
      "cell_type": "code",
      "metadata": {
        "id": "7TnBhY6XKZ2c",
        "colab_type": "code",
        "colab": {}
      },
      "source": [
        "#Lists can also have different types of elements in them.\n",
        "different_types_of_items = ['laptop', 45, True, [4,5,6]]"
      ],
      "execution_count": 0,
      "outputs": []
    },
    {
      "cell_type": "code",
      "metadata": {
        "id": "g6y44eqSKdZq",
        "colab_type": "code",
        "colab": {}
      },
      "source": [
        "# What does this code do?\n",
        "\n",
        "a = [0] * 10"
      ],
      "execution_count": 0,
      "outputs": []
    },
    {
      "cell_type": "markdown",
      "metadata": {
        "id": "FqBPsWgDKmYz",
        "colab_type": "text"
      },
      "source": [
        "Accessing the elements of the list!"
      ]
    },
    {
      "cell_type": "markdown",
      "metadata": {
        "id": "Z2pmE-XwKvWJ",
        "colab_type": "text"
      },
      "source": [
        "List elements can be accessed by their index. The index number starts with 0"
      ]
    },
    {
      "cell_type": "markdown",
      "metadata": {
        "id": "jz9mtJndKyte",
        "colab_type": "text"
      },
      "source": [
        "|0|1|2|3|4|5|6|\n",
        "|:---:|:---:|:---:|:---:|:---:|:---:|:---:|\n",
        "|Sunday|Monday|Tuesday|Wednesday|Thursday|Friday|Saturday|\n",
        "|-7|-6|-5|-4|-3|-2|-1|"
      ]
    },
    {
      "cell_type": "code",
      "metadata": {
        "id": "QHbuan7HL9mG",
        "colab_type": "code",
        "outputId": "43e44771-1fb6-47d4-aad8-8e48fc7d3bae",
        "colab": {
          "base_uri": "https://localhost:8080/",
          "height": 53
        }
      },
      "source": [
        "print(days_of_the_week[0])\n",
        "print(days_of_the_week[-7])"
      ],
      "execution_count": 27,
      "outputs": [
        {
          "output_type": "stream",
          "text": [
            "Sunday\n",
            "Sunday\n"
          ],
          "name": "stdout"
        }
      ]
    },
    {
      "cell_type": "code",
      "metadata": {
        "id": "SGiOmsVLMZup",
        "colab_type": "code",
        "outputId": "b48dc256-3db0-4948-c5b0-5a89b2efe244",
        "colab": {
          "base_uri": "https://localhost:8080/",
          "height": 35
        }
      },
      "source": [
        "len(days_of_the_week)"
      ],
      "execution_count": 28,
      "outputs": [
        {
          "output_type": "execute_result",
          "data": {
            "text/plain": [
              "7"
            ]
          },
          "metadata": {
            "tags": []
          },
          "execution_count": 28
        }
      ]
    },
    {
      "cell_type": "code",
      "metadata": {
        "id": "NlIaufdjMlgK",
        "colab_type": "code",
        "outputId": "3357bcb4-0824-4fd7-ed7b-28984d850994",
        "colab": {
          "base_uri": "https://localhost:8080/",
          "height": 53
        }
      },
      "source": [
        "#print last day of the week\n",
        "print(days_of_the_week[len(days_of_the_week)-1])\n",
        "print(days_of_the_week[-1])"
      ],
      "execution_count": 29,
      "outputs": [
        {
          "output_type": "stream",
          "text": [
            "Saturday\n",
            "Saturday\n"
          ],
          "name": "stdout"
        }
      ]
    },
    {
      "cell_type": "code",
      "metadata": {
        "id": "JvUAMaduMqhC",
        "colab_type": "code",
        "outputId": "c43df51c-3a43-44fe-dce9-a4844868778b",
        "colab": {
          "base_uri": "https://localhost:8080/",
          "height": 89
        }
      },
      "source": [
        "#Slicing the list\n",
        "\n",
        "print(days_of_the_week[:])\n",
        "print(days_of_the_week[1:3])\n",
        "print(days_of_the_week[1:])\n",
        "print(days_of_the_week[:4])"
      ],
      "execution_count": 30,
      "outputs": [
        {
          "output_type": "stream",
          "text": [
            "['Sunday', 'Monday', 'Tuesday', 'Wednesday', 'Thursday', 'Friday', 'Saturday']\n",
            "['Monday', 'Tuesday']\n",
            "['Monday', 'Tuesday', 'Wednesday', 'Thursday', 'Friday', 'Saturday']\n",
            "['Sunday', 'Monday', 'Tuesday', 'Wednesday']\n"
          ],
          "name": "stdout"
        }
      ]
    },
    {
      "cell_type": "code",
      "metadata": {
        "id": "uqhYF-7YNNmc",
        "colab_type": "code",
        "outputId": "8b418d2b-bdd0-469d-ac6a-57a2113fd0fe",
        "colab": {
          "base_uri": "https://localhost:8080/",
          "height": 35
        }
      },
      "source": [
        "print(days_of_the_week[::2])"
      ],
      "execution_count": 31,
      "outputs": [
        {
          "output_type": "stream",
          "text": [
            "['Sunday', 'Tuesday', 'Thursday', 'Saturday']\n"
          ],
          "name": "stdout"
        }
      ]
    },
    {
      "cell_type": "code",
      "metadata": {
        "id": "JZDEPaSCOmgY",
        "colab_type": "code",
        "outputId": "95a6cd6b-4061-4692-e25e-f9b1e21e169b",
        "colab": {
          "base_uri": "https://localhost:8080/",
          "height": 197
        }
      },
      "source": [
        "#Iterate through the list\n",
        "\n",
        "for days in days_of_the_week:\n",
        "  print(days)\n",
        "\n",
        "\n",
        "# append new elements to the list\n",
        "days_of_the_week.append('Holiday')\n",
        "days_of_the_week.insert(2,'Funday')\n",
        "\n",
        "print(\"1. \", days_of_the_week)\n",
        "\n",
        "days_of_the_week.pop()\n",
        "print('2. ', days_of_the_week)\n",
        "days_of_the_week.pop(2)\n",
        "print('3. ', days_of_the_week)"
      ],
      "execution_count": 32,
      "outputs": [
        {
          "output_type": "stream",
          "text": [
            "Sunday\n",
            "Monday\n",
            "Tuesday\n",
            "Wednesday\n",
            "Thursday\n",
            "Friday\n",
            "Saturday\n",
            "1.  ['Sunday', 'Monday', 'Funday', 'Tuesday', 'Wednesday', 'Thursday', 'Friday', 'Saturday', 'Holiday']\n",
            "2.  ['Sunday', 'Monday', 'Funday', 'Tuesday', 'Wednesday', 'Thursday', 'Friday', 'Saturday']\n",
            "3.  ['Sunday', 'Monday', 'Tuesday', 'Wednesday', 'Thursday', 'Friday', 'Saturday']\n"
          ],
          "name": "stdout"
        }
      ]
    },
    {
      "cell_type": "markdown",
      "metadata": {
        "id": "f8OH_ritOEdI",
        "colab_type": "text"
      },
      "source": [
        "## Exercise\n",
        "\n",
        "1. Print all the elements of the list except the first and the last element\n",
        "2. Reverse the list\n"
      ]
    },
    {
      "cell_type": "markdown",
      "metadata": {
        "id": "5Pg5mysXjFdK",
        "colab_type": "text"
      },
      "source": [
        "Let us move on to more List functions"
      ]
    },
    {
      "cell_type": "code",
      "metadata": {
        "id": "-bE76jnGkJZC",
        "colab_type": "code",
        "outputId": "96cc1619-139b-434d-aa30-4ed09c712261",
        "colab": {
          "base_uri": "https://localhost:8080/",
          "height": 35
        }
      },
      "source": [
        "len(days_of_the_week)"
      ],
      "execution_count": 33,
      "outputs": [
        {
          "output_type": "execute_result",
          "data": {
            "text/plain": [
              "7"
            ]
          },
          "metadata": {
            "tags": []
          },
          "execution_count": 33
        }
      ]
    },
    {
      "cell_type": "code",
      "metadata": {
        "id": "YMAdPkSrkMmd",
        "colab_type": "code",
        "outputId": "805a3919-33e5-4cc1-837a-e3478bfdcfb0",
        "colab": {
          "base_uri": "https://localhost:8080/",
          "height": 35
        }
      },
      "source": [
        "sorted(days_of_the_week)"
      ],
      "execution_count": 34,
      "outputs": [
        {
          "output_type": "execute_result",
          "data": {
            "text/plain": [
              "['Friday', 'Monday', 'Saturday', 'Sunday', 'Thursday', 'Tuesday', 'Wednesday']"
            ]
          },
          "metadata": {
            "tags": []
          },
          "execution_count": 34
        }
      ]
    },
    {
      "cell_type": "code",
      "metadata": {
        "id": "zYjlYSD3kPJT",
        "colab_type": "code",
        "outputId": "1bee3596-bb59-4343-89c3-590c65b7d00d",
        "colab": {
          "base_uri": "https://localhost:8080/",
          "height": 53
        }
      },
      "source": [
        "numbers = list(range(10))\n",
        "print(numbers)\n",
        "print(sum(numbers))"
      ],
      "execution_count": 35,
      "outputs": [
        {
          "output_type": "stream",
          "text": [
            "[0, 1, 2, 3, 4, 5, 6, 7, 8, 9]\n",
            "45\n"
          ],
          "name": "stdout"
        }
      ]
    },
    {
      "cell_type": "code",
      "metadata": {
        "id": "Cmc-pC-GkXWq",
        "colab_type": "code",
        "colab": {}
      },
      "source": [
        "odd_numbers_below_10 = numbers[1::2]"
      ],
      "execution_count": 0,
      "outputs": []
    },
    {
      "cell_type": "code",
      "metadata": {
        "id": "ex0BROZCknmy",
        "colab_type": "code",
        "outputId": "853331a6-3106-4e2d-85d6-20a8e464392c",
        "colab": {
          "base_uri": "https://localhost:8080/",
          "height": 35
        }
      },
      "source": [
        "odd_numbers_below_10"
      ],
      "execution_count": 37,
      "outputs": [
        {
          "output_type": "execute_result",
          "data": {
            "text/plain": [
              "[1, 3, 5, 7, 9]"
            ]
          },
          "metadata": {
            "tags": []
          },
          "execution_count": 37
        }
      ]
    },
    {
      "cell_type": "code",
      "metadata": {
        "id": "30fxO1aOko9a",
        "colab_type": "code",
        "outputId": "da72cf3c-d91c-4ec9-c710-7064eb9af9f1",
        "colab": {
          "base_uri": "https://localhost:8080/",
          "height": 35
        }
      },
      "source": [
        "'Fri' in days_of_the_week"
      ],
      "execution_count": 38,
      "outputs": [
        {
          "output_type": "execute_result",
          "data": {
            "text/plain": [
              "False"
            ]
          },
          "metadata": {
            "tags": []
          },
          "execution_count": 38
        }
      ]
    },
    {
      "cell_type": "code",
      "metadata": {
        "id": "ENotaykXlhcL",
        "colab_type": "code",
        "outputId": "9cf5c243-dabe-464c-f4d5-83d13fecd503",
        "colab": {
          "base_uri": "https://localhost:8080/",
          "height": 35
        }
      },
      "source": [
        "days_of_the_week.index('Monday')"
      ],
      "execution_count": 39,
      "outputs": [
        {
          "output_type": "execute_result",
          "data": {
            "text/plain": [
              "1"
            ]
          },
          "metadata": {
            "tags": []
          },
          "execution_count": 39
        }
      ]
    },
    {
      "cell_type": "markdown",
      "metadata": {
        "id": "Gbx1Eohclu8_",
        "colab_type": "text"
      },
      "source": [
        "### List Comprehensions"
      ]
    },
    {
      "cell_type": "markdown",
      "metadata": {
        "id": "c5gXantEmXXy",
        "colab_type": "text"
      },
      "source": [
        "List comprehensions provide a concise way to create lists.\n",
        "\n",
        "It consists of brackets containing an expression followed by a `for` clause, then zero or more `for` or `if` clauses. The expressions can be anything, meaning you can put in all kinds of objects in lists.\n",
        "\n",
        "The result will be a new list resulting from evaluating the expression in the context of the for and if clauses which follow it.\n",
        "\n",
        "The list comprehension always returns a result list."
      ]
    },
    {
      "cell_type": "code",
      "metadata": {
        "id": "JUoyUpPCmbO8",
        "colab_type": "code",
        "outputId": "4ac92246-9079-401f-8a0c-ef9a004acc92",
        "colab": {
          "base_uri": "https://localhost:8080/",
          "height": 35
        }
      },
      "source": [
        "[len(days) for days in days_of_the_week]"
      ],
      "execution_count": 40,
      "outputs": [
        {
          "output_type": "execute_result",
          "data": {
            "text/plain": [
              "[6, 6, 7, 9, 8, 6, 8]"
            ]
          },
          "metadata": {
            "tags": []
          },
          "execution_count": 40
        }
      ]
    },
    {
      "cell_type": "code",
      "metadata": {
        "id": "kzys1oy4nV8s",
        "colab_type": "code",
        "outputId": "8bb98d94-e566-475a-8e8a-31ba73d8511b",
        "colab": {
          "base_uri": "https://localhost:8080/",
          "height": 35
        }
      },
      "source": [
        "# We can also add an if condition\n",
        "\n",
        "[a for a in range(10) if a%2 == 0 and a!=0]"
      ],
      "execution_count": 41,
      "outputs": [
        {
          "output_type": "execute_result",
          "data": {
            "text/plain": [
              "[2, 4, 6, 8]"
            ]
          },
          "metadata": {
            "tags": []
          },
          "execution_count": 41
        }
      ]
    },
    {
      "cell_type": "markdown",
      "metadata": {
        "id": "YBF-U2vkoNc4",
        "colab_type": "text"
      },
      "source": [
        "## Exercise\n",
        "The first element in each team list is the captain.\n",
        "The last element is each team list is the coach.\n",
        "* Extract the captain of the third placed team. \n",
        "* Extract the coach of the top two teams.\n",
        "\n",
        "Use only single line of codes for each of the tasks!"
      ]
    },
    {
      "cell_type": "code",
      "metadata": {
        "id": "aIpmhFqWoliZ",
        "colab_type": "code",
        "outputId": "7bd07ae4-f70d-4e0a-b86e-7cc39b45a343",
        "colab": {
          "base_uri": "https://localhost:8080/",
          "height": 35
        }
      },
      "source": [
        "first_team = ['A', 'B', 'C', 'D', 'M']\n",
        "second_team = ['E', 'F', 'G', 'H', 'N']\n",
        "third_team = ['I', 'J', 'K', 'L', 'O']\n",
        "\n",
        "list_of_teams = [first_team,second_team,third_team]\n",
        "\n",
        "print(list_of_teams)"
      ],
      "execution_count": 42,
      "outputs": [
        {
          "output_type": "stream",
          "text": [
            "[['A', 'B', 'C', 'D', 'M'], ['E', 'F', 'G', 'H', 'N'], ['I', 'J', 'K', 'L', 'O']]\n"
          ],
          "name": "stdout"
        }
      ]
    },
    {
      "cell_type": "markdown",
      "metadata": {
        "id": "KGsVZTDApCiM",
        "colab_type": "text"
      },
      "source": [
        "Get the count of negative numbers in the list using List Comprehension"
      ]
    },
    {
      "cell_type": "code",
      "metadata": {
        "id": "TgDLX8wGrhU2",
        "colab_type": "code",
        "colab": {}
      },
      "source": [
        "a = [-1,3,4,2,-3,-9]"
      ],
      "execution_count": 0,
      "outputs": []
    },
    {
      "cell_type": "markdown",
      "metadata": {
        "id": "UhS2B3HjwU4o",
        "colab_type": "text"
      },
      "source": [
        "## Homework\n",
        "\n",
        "* Find out about sets and tuples.\n",
        "* What is the difference between lists and tuples?"
      ]
    },
    {
      "cell_type": "markdown",
      "metadata": {
        "id": "nNdlOfbBwhN1",
        "colab_type": "text"
      },
      "source": [
        "### Dictionaries\n",
        "Dictionaries are data structures having `key:value` pairs"
      ]
    },
    {
      "cell_type": "code",
      "metadata": {
        "id": "qVxBDS4PZ_ju",
        "colab_type": "code",
        "colab": {}
      },
      "source": [
        "captains = {'India': 'Kohli', 'Australia': 'Finch', 'England': 'Morgan', 'Newzealand': 'Williamson'}"
      ],
      "execution_count": 0,
      "outputs": []
    },
    {
      "cell_type": "code",
      "metadata": {
        "id": "AifFROcCaEgh",
        "colab_type": "code",
        "colab": {
          "base_uri": "https://localhost:8080/",
          "height": 35
        },
        "outputId": "611dd073-55cc-4c19-9e67-c051bdcb7bf6"
      },
      "source": [
        "captains['India']"
      ],
      "execution_count": 45,
      "outputs": [
        {
          "output_type": "execute_result",
          "data": {
            "text/plain": [
              "'Kohli'"
            ]
          },
          "metadata": {
            "tags": []
          },
          "execution_count": 45
        }
      ]
    },
    {
      "cell_type": "code",
      "metadata": {
        "id": "7fOgKM-8aIES",
        "colab_type": "code",
        "colab": {
          "base_uri": "https://localhost:8080/",
          "height": 35
        },
        "outputId": "2478b828-cdac-44ee-cbc9-bfa7749e53f3"
      },
      "source": [
        "# add new key value pairs\n",
        "\n",
        "captains['South Africa']= 'Du Plessis'\n",
        "print(captains)"
      ],
      "execution_count": 46,
      "outputs": [
        {
          "output_type": "stream",
          "text": [
            "{'India': 'Kohli', 'Australia': 'Finch', 'England': 'Morgan', 'Newzealand': 'Williamson', 'South Africa': 'Du Plessis'}\n"
          ],
          "name": "stdout"
        }
      ]
    },
    {
      "cell_type": "code",
      "metadata": {
        "id": "5q36TXv9aZQS",
        "colab_type": "code",
        "colab": {}
      },
      "source": [
        "captains['India'] = 'Virat Kohli'"
      ],
      "execution_count": 0,
      "outputs": []
    },
    {
      "cell_type": "code",
      "metadata": {
        "id": "pk-dzyhbahyS",
        "colab_type": "code",
        "colab": {}
      },
      "source": [
        "captains.update({'Australia': 'Aaron Finch', 'England': 'Eoin Morgan', 'Newzealand': 'Kane Williamson', 'South Africa': 'Faf Du Plessis'})"
      ],
      "execution_count": 0,
      "outputs": []
    },
    {
      "cell_type": "code",
      "metadata": {
        "id": "6jlS3iL5alBR",
        "colab_type": "code",
        "colab": {
          "base_uri": "https://localhost:8080/",
          "height": 35
        },
        "outputId": "d831f2d6-7c97-4478-d9e3-71435ae72239"
      },
      "source": [
        "print(captains)"
      ],
      "execution_count": 50,
      "outputs": [
        {
          "output_type": "stream",
          "text": [
            "{'India': 'Virat Kohli', 'Australia': 'Aaron Finch', 'England': 'Eoin Morgan', 'Newzealand': 'Kane Williamson', 'South Africa': 'Faf Du Plessis'}\n"
          ],
          "name": "stdout"
        }
      ]
    },
    {
      "cell_type": "code",
      "metadata": {
        "id": "iezaOsvHam17",
        "colab_type": "code",
        "colab": {
          "base_uri": "https://localhost:8080/",
          "height": 53
        },
        "outputId": "11ed0c10-e9a2-4b46-8c23-c1c7e33eb043"
      },
      "source": [
        "print('India' in captains)\n",
        "print('United States' in captains)"
      ],
      "execution_count": 54,
      "outputs": [
        {
          "output_type": "stream",
          "text": [
            "True\n",
            "False\n"
          ],
          "name": "stdout"
        }
      ]
    },
    {
      "cell_type": "code",
      "metadata": {
        "id": "wZpwmohqasav",
        "colab_type": "code",
        "colab": {
          "base_uri": "https://localhost:8080/",
          "height": 143
        },
        "outputId": "f334c66c-d0b1-4634-b881-c4803e6f7e46"
      },
      "source": [
        "# loop through the keys in the dictionary\n",
        "\n",
        "for keys in captains:\n",
        "  print(keys)\n",
        "\n",
        "print(captains.keys())\n",
        "print(captains.values())"
      ],
      "execution_count": 69,
      "outputs": [
        {
          "output_type": "stream",
          "text": [
            "India\n",
            "Australia\n",
            "England\n",
            "Newzealand\n",
            "South Africa\n",
            "dict_keys(['India', 'Australia', 'England', 'Newzealand', 'South Africa'])\n",
            "dict_values(['Virat Kohli', 'Aaron Finch', 'Eoin Morgan', 'Kane Williamson', 'Faf Du Plessis'])\n"
          ],
          "name": "stdout"
        }
      ]
    },
    {
      "cell_type": "markdown",
      "metadata": {
        "id": "nqJCyKr3a-DM",
        "colab_type": "text"
      },
      "source": [
        "## Exercise\n",
        "\n",
        "Sort the captains dictionary in alphabetical order:\n",
        "* of Country Names\n",
        "* of Captains' Names\n",
        "\n"
      ]
    },
    {
      "cell_type": "code",
      "metadata": {
        "id": "7ZXBX7u-bSo4",
        "colab_type": "code",
        "colab": {
          "base_uri": "https://localhost:8080/",
          "height": 161
        },
        "outputId": "818a1b0f-0857-43e3-ac85-05060496b8b5"
      },
      "source": [
        "help(sorted)"
      ],
      "execution_count": 60,
      "outputs": [
        {
          "output_type": "stream",
          "text": [
            "Help on built-in function sorted in module builtins:\n",
            "\n",
            "sorted(iterable, /, *, key=None, reverse=False)\n",
            "    Return a new list containing all items from the iterable in ascending order.\n",
            "    \n",
            "    A custom key function can be supplied to customize the sort order, and the\n",
            "    reverse flag can be set to request the result in descending order.\n",
            "\n"
          ],
          "name": "stdout"
        }
      ]
    },
    {
      "cell_type": "markdown",
      "metadata": {
        "id": "h72xMl6AbWvL",
        "colab_type": "text"
      },
      "source": [
        "### F Strings"
      ]
    },
    {
      "cell_type": "code",
      "metadata": {
        "id": "p_1B3_rUclr_",
        "colab_type": "code",
        "colab": {
          "base_uri": "https://localhost:8080/",
          "height": 55
        },
        "outputId": "9ef07935-c1d5-443c-d2fc-234e749fba0f"
      },
      "source": [
        "print([f\"{captain_name} is captain of {country}\" for captain_name, country in zip(captains.values(), captains.keys())])"
      ],
      "execution_count": 78,
      "outputs": [
        {
          "output_type": "stream",
          "text": [
            "['Virat Kohli is captain of India', 'Aaron Finch is captain of Australia', 'Eoin Morgan is captain of England', 'Kane Williamson is captain of Newzealand', 'Faf Du Plessis is captain of South Africa']\n"
          ],
          "name": "stdout"
        }
      ]
    },
    {
      "cell_type": "code",
      "metadata": {
        "id": "WPk33ArBdNxj",
        "colab_type": "code",
        "colab": {
          "base_uri": "https://localhost:8080/",
          "height": 35
        },
        "outputId": "a234e9c5-7e18-4b6b-dd1c-dc010beab9c6"
      },
      "source": [
        "name = 'Tim'\n",
        "age = 33\n",
        "print(f\"{name} is {age} years old\")\n"
      ],
      "execution_count": 81,
      "outputs": [
        {
          "output_type": "stream",
          "text": [
            "Tim is 33 years old\n"
          ],
          "name": "stdout"
        }
      ]
    },
    {
      "cell_type": "code",
      "metadata": {
        "id": "s0p7Bo8_fEQh",
        "colab_type": "code",
        "colab": {
          "base_uri": "https://localhost:8080/",
          "height": 35
        },
        "outputId": "88ab9965-c0ff-4d6c-cf35-1a62bb15d7fc"
      },
      "source": [
        "new_dict = {k:v.split(' ')[0] for (k,v) in captains.items()}\n",
        "print(new_dict)"
      ],
      "execution_count": 86,
      "outputs": [
        {
          "output_type": "stream",
          "text": [
            "{'India': 'Virat', 'Australia': 'Aaron', 'England': 'Eoin', 'Newzealand': 'Kane', 'South Africa': 'Faf'}\n"
          ],
          "name": "stdout"
        }
      ]
    },
    {
      "cell_type": "markdown",
      "metadata": {
        "id": "acNHLnGqevXe",
        "colab_type": "text"
      },
      "source": [
        "## Exercise\n",
        "\n",
        "Try Dictionary Comprehension\n",
        "\n",
        "To print a dictionary that contains a number (between 1 and 10) in the form (x, x**2)"
      ]
    },
    {
      "cell_type": "code",
      "metadata": {
        "id": "oAWSr2X2fzAm",
        "colab_type": "code",
        "colab": {
          "base_uri": "https://localhost:8080/",
          "height": 35
        },
        "outputId": "121c4565-aaf4-4344-b72d-e38d0671bc8d"
      },
      "source": [
        ""
      ],
      "execution_count": 90,
      "outputs": [
        {
          "output_type": "execute_result",
          "data": {
            "text/plain": [
              "{1: 1, 2: 4, 3: 9, 4: 16, 5: 25, 6: 36, 7: 49, 8: 64, 9: 81, 10: 100}"
            ]
          },
          "metadata": {
            "tags": []
          },
          "execution_count": 90
        }
      ]
    },
    {
      "cell_type": "markdown",
      "metadata": {
        "id": "1quodenBgaSJ",
        "colab_type": "text"
      },
      "source": [
        "### Introduction to Functions\n",
        "\n",
        "We have already seen few built-in functions such as min, max, print and so on. But functions can be more useful when we create our own functions.\n",
        "\n",
        "For Example, say, let us write a function that calculates the area of a circle."
      ]
    },
    {
      "cell_type": "code",
      "metadata": {
        "id": "msYLJm9kgzV_",
        "colab_type": "code",
        "colab": {
          "base_uri": "https://localhost:8080/",
          "height": 35
        },
        "outputId": "4f9cacea-8605-47ac-91f0-88c3627d14a7"
      },
      "source": [
        "def calc_area_circle(radius):\n",
        "    pi = 3.14159\n",
        "    area = pi * radius * radius\n",
        "    return area\n",
        "\n",
        "print(\"Area of the circle is: \", calc_area_circle(30))"
      ],
      "execution_count": 91,
      "outputs": [
        {
          "output_type": "stream",
          "text": [
            "Area of the circle is:  2827.431\n"
          ],
          "name": "stdout"
        }
      ]
    },
    {
      "cell_type": "markdown",
      "metadata": {
        "id": "IQK0fC21ispK",
        "colab_type": "text"
      },
      "source": [
        "### Keyword Arguments and Positional Arguments"
      ]
    },
    {
      "cell_type": "code",
      "metadata": {
        "id": "cbdZPNahhiIz",
        "colab_type": "code",
        "colab": {}
      },
      "source": [
        "from math import sqrt\n",
        "\n",
        "def quadratic(a, b, c):\n",
        "    x1 = -b / (2*a)\n",
        "    x2 = sqrt(b**2 - 4*a*c) / (2*a)\n",
        "    return (x1 + x2), (x1 - x2)"
      ],
      "execution_count": 0,
      "outputs": []
    },
    {
      "cell_type": "markdown",
      "metadata": {
        "id": "bwq-cVtJhyqD",
        "colab_type": "text"
      },
      "source": [
        "When we call this function, we can pass each of our three arguments in two different ways"
      ]
    },
    {
      "cell_type": "code",
      "metadata": {
        "id": "NXOOweFkh0Ji",
        "colab_type": "code",
        "colab": {
          "base_uri": "https://localhost:8080/",
          "height": 53
        },
        "outputId": "38984faf-62ad-4c97-f09f-a6a661af7d71"
      },
      "source": [
        "print(quadratic(31, 93, 62))\n",
        "\n",
        "#Or we can pass our arguments as keyword arguments like this:\n",
        "\n",
        "print(quadratic(a=31, b=93, c=62))\n"
      ],
      "execution_count": 99,
      "outputs": [
        {
          "output_type": "stream",
          "text": [
            "(-1.0, -2.0)\n",
            "(-1.0, -2.0)\n"
          ],
          "name": "stdout"
        }
      ]
    },
    {
      "cell_type": "code",
      "metadata": {
        "id": "JEDgsZ7Giew7",
        "colab_type": "code",
        "colab": {
          "base_uri": "https://localhost:8080/",
          "height": 53
        },
        "outputId": "143d7a08-b7ba-4286-b689-70c34961fde1"
      },
      "source": [
        "\n",
        "\n",
        "#The order of these arguments matters when they’re passed positionally\n",
        "\n",
        "print(quadratic(31, 93, 62))\n",
        "\n",
        "print(quadratic(62, 93, 31))\n"
      ],
      "execution_count": 101,
      "outputs": [
        {
          "output_type": "stream",
          "text": [
            "(-1.0, -2.0)\n",
            "(-0.5, -1.0)\n"
          ],
          "name": "stdout"
        }
      ]
    },
    {
      "cell_type": "code",
      "metadata": {
        "id": "olNPXb2_g6lU",
        "colab_type": "code",
        "colab": {
          "base_uri": "https://localhost:8080/",
          "height": 71
        },
        "outputId": "a4211d89-dd88-481c-f543-cca15e9cf0b8"
      },
      "source": [
        "## Default Values can be provided for keyword arguments:\n",
        "def wish_birthday(who=\"Harry\"):\n",
        "    print(\"Happy Birthday,\", who)\n",
        "    \n",
        "wish_birthday()\n",
        "wish_birthday(who=\"Ron\")\n",
        "wish_birthday(\"Hermione\")"
      ],
      "execution_count": 102,
      "outputs": [
        {
          "output_type": "stream",
          "text": [
            "Happy Birthday, Harry\n",
            "Happy Birthday, Ron\n",
            "Happy Birthday, Hermione\n"
          ],
          "name": "stdout"
        }
      ]
    },
    {
      "cell_type": "markdown",
      "metadata": {
        "id": "ZrUvgwjghHxg",
        "colab_type": "text"
      },
      "source": [
        "### Exercise\n",
        "Write a function that takes in a string and toggles the case and returns the output"
      ]
    },
    {
      "cell_type": "markdown",
      "metadata": {
        "id": "brxxcJGsjpWg",
        "colab_type": "text"
      },
      "source": [
        "### Importing Libraries\n",
        "\n",
        "The reason why Python is famous is because of its community. The community of developers create a lot of libraries! And the good news is that we can easily use those libraries for our code!\n",
        "\n",
        "Some of these libraries are in the \"standard library\", meaning you can find them anywhere you run Python. Others libraries can be easily added, even if they aren't always shipped with Python.\n",
        "\n",
        "Either way, we'll access this code with imports."
      ]
    },
    {
      "cell_type": "code",
      "metadata": {
        "id": "za-BlaRErGDD",
        "colab_type": "code",
        "colab": {}
      },
      "source": [
        "import numpy"
      ],
      "execution_count": 0,
      "outputs": []
    },
    {
      "cell_type": "code",
      "metadata": {
        "id": "rzhbnx1WrYsN",
        "colab_type": "code",
        "colab": {
          "base_uri": "https://localhost:8080/",
          "height": 35
        },
        "outputId": "f2cb1d0b-ba8a-4b40-afe3-c1e800967e06"
      },
      "source": [
        "type(numpy)"
      ],
      "execution_count": 104,
      "outputs": [
        {
          "output_type": "execute_result",
          "data": {
            "text/plain": [
              "module"
            ]
          },
          "metadata": {
            "tags": []
          },
          "execution_count": 104
        }
      ]
    },
    {
      "cell_type": "code",
      "metadata": {
        "id": "RBg8_lkwrabe",
        "colab_type": "code",
        "colab": {
          "base_uri": "https://localhost:8080/",
          "height": 1000
        },
        "outputId": "9ae4c4cf-077c-4046-9536-07949a65c063"
      },
      "source": [
        "dir(numpy)"
      ],
      "execution_count": 106,
      "outputs": [
        {
          "output_type": "execute_result",
          "data": {
            "text/plain": [
              "['ALLOW_THREADS',\n",
              " 'AxisError',\n",
              " 'BUFSIZE',\n",
              " 'CLIP',\n",
              " 'ComplexWarning',\n",
              " 'DataSource',\n",
              " 'ERR_CALL',\n",
              " 'ERR_DEFAULT',\n",
              " 'ERR_IGNORE',\n",
              " 'ERR_LOG',\n",
              " 'ERR_PRINT',\n",
              " 'ERR_RAISE',\n",
              " 'ERR_WARN',\n",
              " 'FLOATING_POINT_SUPPORT',\n",
              " 'FPE_DIVIDEBYZERO',\n",
              " 'FPE_INVALID',\n",
              " 'FPE_OVERFLOW',\n",
              " 'FPE_UNDERFLOW',\n",
              " 'False_',\n",
              " 'Inf',\n",
              " 'Infinity',\n",
              " 'MAXDIMS',\n",
              " 'MAY_SHARE_BOUNDS',\n",
              " 'MAY_SHARE_EXACT',\n",
              " 'MachAr',\n",
              " 'ModuleDeprecationWarning',\n",
              " 'NAN',\n",
              " 'NINF',\n",
              " 'NZERO',\n",
              " 'NaN',\n",
              " 'PINF',\n",
              " 'PZERO',\n",
              " 'RAISE',\n",
              " 'RankWarning',\n",
              " 'SHIFT_DIVIDEBYZERO',\n",
              " 'SHIFT_INVALID',\n",
              " 'SHIFT_OVERFLOW',\n",
              " 'SHIFT_UNDERFLOW',\n",
              " 'ScalarType',\n",
              " 'Tester',\n",
              " 'TooHardError',\n",
              " 'True_',\n",
              " 'UFUNC_BUFSIZE_DEFAULT',\n",
              " 'UFUNC_PYVALS_NAME',\n",
              " 'VisibleDeprecationWarning',\n",
              " 'WRAP',\n",
              " '_NoValue',\n",
              " '_UFUNC_API',\n",
              " '__NUMPY_SETUP__',\n",
              " '__all__',\n",
              " '__builtins__',\n",
              " '__cached__',\n",
              " '__config__',\n",
              " '__doc__',\n",
              " '__file__',\n",
              " '__git_revision__',\n",
              " '__loader__',\n",
              " '__name__',\n",
              " '__package__',\n",
              " '__path__',\n",
              " '__spec__',\n",
              " '__version__',\n",
              " '_add_newdoc_ufunc',\n",
              " '_distributor_init',\n",
              " '_globals',\n",
              " '_mat',\n",
              " '_pytesttester',\n",
              " 'abs',\n",
              " 'absolute',\n",
              " 'absolute_import',\n",
              " 'add',\n",
              " 'add_docstring',\n",
              " 'add_newdoc',\n",
              " 'add_newdoc_ufunc',\n",
              " 'alen',\n",
              " 'all',\n",
              " 'allclose',\n",
              " 'alltrue',\n",
              " 'amax',\n",
              " 'amin',\n",
              " 'angle',\n",
              " 'any',\n",
              " 'append',\n",
              " 'apply_along_axis',\n",
              " 'apply_over_axes',\n",
              " 'arange',\n",
              " 'arccos',\n",
              " 'arccosh',\n",
              " 'arcsin',\n",
              " 'arcsinh',\n",
              " 'arctan',\n",
              " 'arctan2',\n",
              " 'arctanh',\n",
              " 'argmax',\n",
              " 'argmin',\n",
              " 'argpartition',\n",
              " 'argsort',\n",
              " 'argwhere',\n",
              " 'around',\n",
              " 'array',\n",
              " 'array2string',\n",
              " 'array_equal',\n",
              " 'array_equiv',\n",
              " 'array_repr',\n",
              " 'array_split',\n",
              " 'array_str',\n",
              " 'asanyarray',\n",
              " 'asarray',\n",
              " 'asarray_chkfinite',\n",
              " 'ascontiguousarray',\n",
              " 'asfarray',\n",
              " 'asfortranarray',\n",
              " 'asmatrix',\n",
              " 'asscalar',\n",
              " 'atleast_1d',\n",
              " 'atleast_2d',\n",
              " 'atleast_3d',\n",
              " 'average',\n",
              " 'bartlett',\n",
              " 'base_repr',\n",
              " 'binary_repr',\n",
              " 'bincount',\n",
              " 'bitwise_and',\n",
              " 'bitwise_not',\n",
              " 'bitwise_or',\n",
              " 'bitwise_xor',\n",
              " 'blackman',\n",
              " 'block',\n",
              " 'bmat',\n",
              " 'bool',\n",
              " 'bool8',\n",
              " 'bool_',\n",
              " 'broadcast',\n",
              " 'broadcast_arrays',\n",
              " 'broadcast_to',\n",
              " 'busday_count',\n",
              " 'busday_offset',\n",
              " 'busdaycalendar',\n",
              " 'byte',\n",
              " 'byte_bounds',\n",
              " 'bytes0',\n",
              " 'bytes_',\n",
              " 'c_',\n",
              " 'can_cast',\n",
              " 'cast',\n",
              " 'cbrt',\n",
              " 'cdouble',\n",
              " 'ceil',\n",
              " 'cfloat',\n",
              " 'char',\n",
              " 'character',\n",
              " 'chararray',\n",
              " 'choose',\n",
              " 'clip',\n",
              " 'clongdouble',\n",
              " 'clongfloat',\n",
              " 'column_stack',\n",
              " 'common_type',\n",
              " 'compare_chararrays',\n",
              " 'compat',\n",
              " 'complex',\n",
              " 'complex128',\n",
              " 'complex256',\n",
              " 'complex64',\n",
              " 'complex_',\n",
              " 'complexfloating',\n",
              " 'compress',\n",
              " 'concatenate',\n",
              " 'conj',\n",
              " 'conjugate',\n",
              " 'convolve',\n",
              " 'copy',\n",
              " 'copysign',\n",
              " 'copyto',\n",
              " 'core',\n",
              " 'corrcoef',\n",
              " 'correlate',\n",
              " 'cos',\n",
              " 'cosh',\n",
              " 'count_nonzero',\n",
              " 'cov',\n",
              " 'cross',\n",
              " 'csingle',\n",
              " 'ctypeslib',\n",
              " 'cumprod',\n",
              " 'cumproduct',\n",
              " 'cumsum',\n",
              " 'datetime64',\n",
              " 'datetime_as_string',\n",
              " 'datetime_data',\n",
              " 'deg2rad',\n",
              " 'degrees',\n",
              " 'delete',\n",
              " 'deprecate',\n",
              " 'deprecate_with_doc',\n",
              " 'diag',\n",
              " 'diag_indices',\n",
              " 'diag_indices_from',\n",
              " 'diagflat',\n",
              " 'diagonal',\n",
              " 'diff',\n",
              " 'digitize',\n",
              " 'disp',\n",
              " 'divide',\n",
              " 'division',\n",
              " 'divmod',\n",
              " 'dot',\n",
              " 'double',\n",
              " 'dsplit',\n",
              " 'dstack',\n",
              " 'dtype',\n",
              " 'e',\n",
              " 'ediff1d',\n",
              " 'einsum',\n",
              " 'einsum_path',\n",
              " 'emath',\n",
              " 'empty',\n",
              " 'empty_like',\n",
              " 'equal',\n",
              " 'errstate',\n",
              " 'euler_gamma',\n",
              " 'exp',\n",
              " 'exp2',\n",
              " 'expand_dims',\n",
              " 'expm1',\n",
              " 'extract',\n",
              " 'eye',\n",
              " 'fabs',\n",
              " 'fastCopyAndTranspose',\n",
              " 'fft',\n",
              " 'fill_diagonal',\n",
              " 'find_common_type',\n",
              " 'finfo',\n",
              " 'fix',\n",
              " 'flatiter',\n",
              " 'flatnonzero',\n",
              " 'flexible',\n",
              " 'flip',\n",
              " 'fliplr',\n",
              " 'flipud',\n",
              " 'float',\n",
              " 'float128',\n",
              " 'float16',\n",
              " 'float32',\n",
              " 'float64',\n",
              " 'float_',\n",
              " 'float_power',\n",
              " 'floating',\n",
              " 'floor',\n",
              " 'floor_divide',\n",
              " 'fmax',\n",
              " 'fmin',\n",
              " 'fmod',\n",
              " 'format_float_positional',\n",
              " 'format_float_scientific',\n",
              " 'format_parser',\n",
              " 'frexp',\n",
              " 'frombuffer',\n",
              " 'fromfile',\n",
              " 'fromfunction',\n",
              " 'fromiter',\n",
              " 'frompyfunc',\n",
              " 'fromregex',\n",
              " 'fromstring',\n",
              " 'full',\n",
              " 'full_like',\n",
              " 'fv',\n",
              " 'gcd',\n",
              " 'generic',\n",
              " 'genfromtxt',\n",
              " 'geomspace',\n",
              " 'get_array_wrap',\n",
              " 'get_include',\n",
              " 'get_printoptions',\n",
              " 'getbufsize',\n",
              " 'geterr',\n",
              " 'geterrcall',\n",
              " 'geterrobj',\n",
              " 'gradient',\n",
              " 'greater',\n",
              " 'greater_equal',\n",
              " 'half',\n",
              " 'hamming',\n",
              " 'hanning',\n",
              " 'heaviside',\n",
              " 'histogram',\n",
              " 'histogram2d',\n",
              " 'histogram_bin_edges',\n",
              " 'histogramdd',\n",
              " 'hsplit',\n",
              " 'hstack',\n",
              " 'hypot',\n",
              " 'i0',\n",
              " 'identity',\n",
              " 'iinfo',\n",
              " 'imag',\n",
              " 'in1d',\n",
              " 'index_exp',\n",
              " 'indices',\n",
              " 'inexact',\n",
              " 'inf',\n",
              " 'info',\n",
              " 'infty',\n",
              " 'inner',\n",
              " 'insert',\n",
              " 'int',\n",
              " 'int0',\n",
              " 'int16',\n",
              " 'int32',\n",
              " 'int64',\n",
              " 'int8',\n",
              " 'int_',\n",
              " 'int_asbuffer',\n",
              " 'intc',\n",
              " 'integer',\n",
              " 'interp',\n",
              " 'intersect1d',\n",
              " 'intp',\n",
              " 'invert',\n",
              " 'ipmt',\n",
              " 'irr',\n",
              " 'is_busday',\n",
              " 'isclose',\n",
              " 'iscomplex',\n",
              " 'iscomplexobj',\n",
              " 'isfinite',\n",
              " 'isfortran',\n",
              " 'isin',\n",
              " 'isinf',\n",
              " 'isnan',\n",
              " 'isnat',\n",
              " 'isneginf',\n",
              " 'isposinf',\n",
              " 'isreal',\n",
              " 'isrealobj',\n",
              " 'isscalar',\n",
              " 'issctype',\n",
              " 'issubclass_',\n",
              " 'issubdtype',\n",
              " 'issubsctype',\n",
              " 'iterable',\n",
              " 'ix_',\n",
              " 'kaiser',\n",
              " 'kron',\n",
              " 'lcm',\n",
              " 'ldexp',\n",
              " 'left_shift',\n",
              " 'less',\n",
              " 'less_equal',\n",
              " 'lexsort',\n",
              " 'lib',\n",
              " 'linalg',\n",
              " 'linspace',\n",
              " 'little_endian',\n",
              " 'load',\n",
              " 'loads',\n",
              " 'loadtxt',\n",
              " 'log',\n",
              " 'log10',\n",
              " 'log1p',\n",
              " 'log2',\n",
              " 'logaddexp',\n",
              " 'logaddexp2',\n",
              " 'logical_and',\n",
              " 'logical_not',\n",
              " 'logical_or',\n",
              " 'logical_xor',\n",
              " 'logspace',\n",
              " 'long',\n",
              " 'longcomplex',\n",
              " 'longdouble',\n",
              " 'longfloat',\n",
              " 'longlong',\n",
              " 'lookfor',\n",
              " 'ma',\n",
              " 'mafromtxt',\n",
              " 'mask_indices',\n",
              " 'mat',\n",
              " 'math',\n",
              " 'matmul',\n",
              " 'matrix',\n",
              " 'matrixlib',\n",
              " 'max',\n",
              " 'maximum',\n",
              " 'maximum_sctype',\n",
              " 'may_share_memory',\n",
              " 'mean',\n",
              " 'median',\n",
              " 'memmap',\n",
              " 'meshgrid',\n",
              " 'mgrid',\n",
              " 'min',\n",
              " 'min_scalar_type',\n",
              " 'minimum',\n",
              " 'mintypecode',\n",
              " 'mirr',\n",
              " 'mod',\n",
              " 'modf',\n",
              " 'moveaxis',\n",
              " 'msort',\n",
              " 'multiply',\n",
              " 'nan',\n",
              " 'nan_to_num',\n",
              " 'nanargmax',\n",
              " 'nanargmin',\n",
              " 'nancumprod',\n",
              " 'nancumsum',\n",
              " 'nanmax',\n",
              " 'nanmean',\n",
              " 'nanmedian',\n",
              " 'nanmin',\n",
              " 'nanpercentile',\n",
              " 'nanprod',\n",
              " 'nanquantile',\n",
              " 'nanstd',\n",
              " 'nansum',\n",
              " 'nanvar',\n",
              " 'nbytes',\n",
              " 'ndarray',\n",
              " 'ndenumerate',\n",
              " 'ndfromtxt',\n",
              " 'ndim',\n",
              " 'ndindex',\n",
              " 'nditer',\n",
              " 'negative',\n",
              " 'nested_iters',\n",
              " 'newaxis',\n",
              " 'nextafter',\n",
              " 'nonzero',\n",
              " 'not_equal',\n",
              " 'nper',\n",
              " 'npv',\n",
              " 'numarray',\n",
              " 'number',\n",
              " 'obj2sctype',\n",
              " 'object',\n",
              " 'object0',\n",
              " 'object_',\n",
              " 'ogrid',\n",
              " 'oldnumeric',\n",
              " 'ones',\n",
              " 'ones_like',\n",
              " 'outer',\n",
              " 'packbits',\n",
              " 'pad',\n",
              " 'partition',\n",
              " 'percentile',\n",
              " 'pi',\n",
              " 'piecewise',\n",
              " 'place',\n",
              " 'pmt',\n",
              " 'poly',\n",
              " 'poly1d',\n",
              " 'polyadd',\n",
              " 'polyder',\n",
              " 'polydiv',\n",
              " 'polyfit',\n",
              " 'polyint',\n",
              " 'polymul',\n",
              " 'polynomial',\n",
              " 'polysub',\n",
              " 'polyval',\n",
              " 'positive',\n",
              " 'power',\n",
              " 'ppmt',\n",
              " 'print_function',\n",
              " 'printoptions',\n",
              " 'prod',\n",
              " 'product',\n",
              " 'promote_types',\n",
              " 'ptp',\n",
              " 'put',\n",
              " 'put_along_axis',\n",
              " 'putmask',\n",
              " 'pv',\n",
              " 'quantile',\n",
              " 'r_',\n",
              " 'rad2deg',\n",
              " 'radians',\n",
              " 'random',\n",
              " 'rank',\n",
              " 'rate',\n",
              " 'ravel',\n",
              " 'ravel_multi_index',\n",
              " 'real',\n",
              " 'real_if_close',\n",
              " 'rec',\n",
              " 'recarray',\n",
              " 'recfromcsv',\n",
              " 'recfromtxt',\n",
              " 'reciprocal',\n",
              " 'record',\n",
              " 'remainder',\n",
              " 'repeat',\n",
              " 'require',\n",
              " 'reshape',\n",
              " 'resize',\n",
              " 'result_type',\n",
              " 'right_shift',\n",
              " 'rint',\n",
              " 'roll',\n",
              " 'rollaxis',\n",
              " 'roots',\n",
              " 'rot90',\n",
              " 'round',\n",
              " 'round_',\n",
              " 'row_stack',\n",
              " 's_',\n",
              " 'safe_eval',\n",
              " 'save',\n",
              " 'savetxt',\n",
              " 'savez',\n",
              " 'savez_compressed',\n",
              " 'sctype2char',\n",
              " 'sctypeDict',\n",
              " 'sctypeNA',\n",
              " 'sctypes',\n",
              " 'searchsorted',\n",
              " 'select',\n",
              " 'set_numeric_ops',\n",
              " 'set_printoptions',\n",
              " 'set_string_function',\n",
              " 'setbufsize',\n",
              " 'setdiff1d',\n",
              " 'seterr',\n",
              " 'seterrcall',\n",
              " 'seterrobj',\n",
              " 'setxor1d',\n",
              " 'shape',\n",
              " 'shares_memory',\n",
              " 'short',\n",
              " 'show_config',\n",
              " 'sign',\n",
              " 'signbit',\n",
              " 'signedinteger',\n",
              " 'sin',\n",
              " 'sinc',\n",
              " 'single',\n",
              " 'singlecomplex',\n",
              " 'sinh',\n",
              " 'size',\n",
              " 'sometrue',\n",
              " 'sort',\n",
              " 'sort_complex',\n",
              " 'source',\n",
              " 'spacing',\n",
              " 'split',\n",
              " 'sqrt',\n",
              " 'square',\n",
              " 'squeeze',\n",
              " 'stack',\n",
              " 'std',\n",
              " 'str',\n",
              " 'str0',\n",
              " 'str_',\n",
              " 'string_',\n",
              " 'subtract',\n",
              " 'sum',\n",
              " 'swapaxes',\n",
              " 'sys',\n",
              " 'take',\n",
              " 'take_along_axis',\n",
              " 'tan',\n",
              " 'tanh',\n",
              " 'tensordot',\n",
              " 'test',\n",
              " 'testing',\n",
              " 'tile',\n",
              " 'timedelta64',\n",
              " 'trace',\n",
              " 'tracemalloc_domain',\n",
              " 'transpose',\n",
              " 'trapz',\n",
              " 'tri',\n",
              " 'tril',\n",
              " 'tril_indices',\n",
              " 'tril_indices_from',\n",
              " 'trim_zeros',\n",
              " 'triu',\n",
              " 'triu_indices',\n",
              " 'triu_indices_from',\n",
              " 'true_divide',\n",
              " 'trunc',\n",
              " 'typeDict',\n",
              " 'typeNA',\n",
              " 'typecodes',\n",
              " 'typename',\n",
              " 'ubyte',\n",
              " 'ufunc',\n",
              " 'uint',\n",
              " 'uint0',\n",
              " 'uint16',\n",
              " 'uint32',\n",
              " 'uint64',\n",
              " 'uint8',\n",
              " 'uintc',\n",
              " 'uintp',\n",
              " 'ulonglong',\n",
              " 'unicode',\n",
              " 'unicode_',\n",
              " 'union1d',\n",
              " 'unique',\n",
              " 'unpackbits',\n",
              " 'unravel_index',\n",
              " 'unsignedinteger',\n",
              " 'unwrap',\n",
              " 'ushort',\n",
              " 'vander',\n",
              " 'var',\n",
              " 'vdot',\n",
              " 'vectorize',\n",
              " 'version',\n",
              " 'void',\n",
              " 'void0',\n",
              " 'vsplit',\n",
              " 'vstack',\n",
              " 'warnings',\n",
              " 'where',\n",
              " 'who',\n",
              " 'zeros',\n",
              " 'zeros_like']"
            ]
          },
          "metadata": {
            "tags": []
          },
          "execution_count": 106
        }
      ]
    },
    {
      "cell_type": "code",
      "metadata": {
        "id": "mCNiRgnzrdfC",
        "colab_type": "code",
        "colab": {
          "base_uri": "https://localhost:8080/",
          "height": 35
        },
        "outputId": "26ef088b-2afa-4a07-f902-c81ba2e880d5"
      },
      "source": [
        "round(numpy.pi,5)"
      ],
      "execution_count": 107,
      "outputs": [
        {
          "output_type": "execute_result",
          "data": {
            "text/plain": [
              "3.14159"
            ]
          },
          "metadata": {
            "tags": []
          },
          "execution_count": 107
        }
      ]
    },
    {
      "cell_type": "code",
      "metadata": {
        "id": "R1z87Zw7r74T",
        "colab_type": "code",
        "colab": {
          "base_uri": "https://localhost:8080/",
          "height": 953
        },
        "outputId": "a7cacd11-14d5-43eb-8bbf-16cb1e0cc418"
      },
      "source": [
        "help(numpy.zeros)"
      ],
      "execution_count": 116,
      "outputs": [
        {
          "output_type": "stream",
          "text": [
            "Help on built-in function zeros in module numpy:\n",
            "\n",
            "zeros(...)\n",
            "    zeros(shape, dtype=float, order='C')\n",
            "    \n",
            "    Return a new array of given shape and type, filled with zeros.\n",
            "    \n",
            "    Parameters\n",
            "    ----------\n",
            "    shape : int or tuple of ints\n",
            "        Shape of the new array, e.g., ``(2, 3)`` or ``2``.\n",
            "    dtype : data-type, optional\n",
            "        The desired data-type for the array, e.g., `numpy.int8`.  Default is\n",
            "        `numpy.float64`.\n",
            "    order : {'C', 'F'}, optional, default: 'C'\n",
            "        Whether to store multi-dimensional data in row-major\n",
            "        (C-style) or column-major (Fortran-style) order in\n",
            "        memory.\n",
            "    \n",
            "    Returns\n",
            "    -------\n",
            "    out : ndarray\n",
            "        Array of zeros with the given shape, dtype, and order.\n",
            "    \n",
            "    See Also\n",
            "    --------\n",
            "    zeros_like : Return an array of zeros with shape and type of input.\n",
            "    empty : Return a new uninitialized array.\n",
            "    ones : Return a new array setting values to one.\n",
            "    full : Return a new array of given shape filled with value.\n",
            "    \n",
            "    Examples\n",
            "    --------\n",
            "    >>> np.zeros(5)\n",
            "    array([ 0.,  0.,  0.,  0.,  0.])\n",
            "    \n",
            "    >>> np.zeros((5,), dtype=int)\n",
            "    array([0, 0, 0, 0, 0])\n",
            "    \n",
            "    >>> np.zeros((2, 1))\n",
            "    array([[ 0.],\n",
            "           [ 0.]])\n",
            "    \n",
            "    >>> s = (2,2)\n",
            "    >>> np.zeros(s)\n",
            "    array([[ 0.,  0.],\n",
            "           [ 0.,  0.]])\n",
            "    \n",
            "    >>> np.zeros((2,), dtype=[('x', 'i4'), ('y', 'i4')]) # custom dtype\n",
            "    array([(0, 0), (0, 0)],\n",
            "          dtype=[('x', '<i4'), ('y', '<i4')])\n",
            "\n"
          ],
          "name": "stdout"
        }
      ]
    },
    {
      "cell_type": "code",
      "metadata": {
        "id": "w8ji5YKer-vZ",
        "colab_type": "code",
        "colab": {
          "base_uri": "https://localhost:8080/",
          "height": 35
        },
        "outputId": "8070f71e-bf40-4ff2-8f0a-c4d0dc597e66"
      },
      "source": [
        "import numpy as np\n",
        "np.pi"
      ],
      "execution_count": 117,
      "outputs": [
        {
          "output_type": "execute_result",
          "data": {
            "text/plain": [
              "3.141592653589793"
            ]
          },
          "metadata": {
            "tags": []
          },
          "execution_count": 117
        }
      ]
    },
    {
      "cell_type": "code",
      "metadata": {
        "id": "Tjyg8ydtsqvD",
        "colab_type": "code",
        "colab": {}
      },
      "source": [
        "from math import *"
      ],
      "execution_count": 0,
      "outputs": []
    },
    {
      "cell_type": "code",
      "metadata": {
        "id": "9Uol8NO_stu9",
        "colab_type": "code",
        "colab": {
          "base_uri": "https://localhost:8080/",
          "height": 35
        },
        "outputId": "131d1ef3-2a5c-4219-877d-15c559cb58db"
      },
      "source": [
        "log(32,2)"
      ],
      "execution_count": 119,
      "outputs": [
        {
          "output_type": "execute_result",
          "data": {
            "text/plain": [
              "5.0"
            ]
          },
          "metadata": {
            "tags": []
          },
          "execution_count": 119
        }
      ]
    },
    {
      "cell_type": "code",
      "metadata": {
        "id": "3YPmiuY-sz-5",
        "colab_type": "code",
        "colab": {}
      },
      "source": [
        "from numpy import *"
      ],
      "execution_count": 0,
      "outputs": []
    },
    {
      "cell_type": "code",
      "metadata": {
        "id": "keUD0Ws9s3F3",
        "colab_type": "code",
        "colab": {
          "base_uri": "https://localhost:8080/",
          "height": 172
        },
        "outputId": "cf485395-f409-4ae4-84d6-e96b020d8dba"
      },
      "source": [
        "log(32,2)"
      ],
      "execution_count": 123,
      "outputs": [
        {
          "output_type": "error",
          "ename": "TypeError",
          "evalue": "ignored",
          "traceback": [
            "\u001b[0;31m---------------------------------------------------------------------------\u001b[0m",
            "\u001b[0;31mTypeError\u001b[0m                                 Traceback (most recent call last)",
            "\u001b[0;32m<ipython-input-123-24422b4af350>\u001b[0m in \u001b[0;36m<module>\u001b[0;34m()\u001b[0m\n\u001b[0;32m----> 1\u001b[0;31m \u001b[0mlog\u001b[0m\u001b[0;34m(\u001b[0m\u001b[0;36m32\u001b[0m\u001b[0;34m,\u001b[0m\u001b[0;36m2\u001b[0m\u001b[0;34m)\u001b[0m\u001b[0;34m\u001b[0m\u001b[0;34m\u001b[0m\u001b[0m\n\u001b[0m",
            "\u001b[0;31mTypeError\u001b[0m: return arrays must be of ArrayType"
          ]
        }
      ]
    },
    {
      "cell_type": "code",
      "metadata": {
        "id": "MDNoCyHWs4kC",
        "colab_type": "code",
        "colab": {}
      },
      "source": [
        ""
      ],
      "execution_count": 0,
      "outputs": []
    }
  ]
}