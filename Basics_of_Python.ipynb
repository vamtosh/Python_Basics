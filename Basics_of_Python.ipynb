{
  "nbformat": 4,
  "nbformat_minor": 0,
  "metadata": {
    "colab": {
      "name": "Basics_of_Python.ipynb",
      "provenance": [],
      "collapsed_sections": [],
      "include_colab_link": true
    },
    "kernelspec": {
      "name": "python3",
      "display_name": "Python 3"
    }
  },
  "cells": [
    {
      "cell_type": "markdown",
      "metadata": {
        "id": "view-in-github",
        "colab_type": "text"
      },
      "source": [
        "<a href=\"https://colab.research.google.com/github/vamtosh/Python_Basics/blob/master/Basics_of_Python.ipynb\" target=\"_parent\"><img src=\"https://colab.research.google.com/assets/colab-badge.svg\" alt=\"Open In Colab\"/></a>"
      ]
    },
    {
      "cell_type": "markdown",
      "metadata": {
        "id": "WBDcxMUV4469",
        "colab_type": "text"
      },
      "source": [
        "#### This module will teach you the basics of Python programming starting with the following:\n",
        "\n",
        "\n",
        "*   Data Types - Basic Syntax\n",
        "*   Data Structures such Lists, Dictionaries\n",
        "*   Comprehensions\n",
        "*   Booleans & Conditionals\n",
        "*   Loops\n",
        "*   Functions\n",
        "*   Importing External Libraries and Help Function\n",
        "\n",
        "\n",
        "\n",
        "\n",
        "---\n",
        "\n",
        "Let's Begin!\n",
        "\n",
        "\n"
      ]
    },
    {
      "cell_type": "code",
      "metadata": {
        "id": "cj9g-1NG7P-C",
        "colab_type": "code",
        "outputId": "6bfa4704-85a9-4984-e768-58593cb8f2c3",
        "colab": {
          "base_uri": "https://localhost:8080/",
          "height": 35
        }
      },
      "source": [
        "print(\"Hello World!\")"
      ],
      "execution_count": 0,
      "outputs": [
        {
          "output_type": "stream",
          "text": [
            "Hello World!\n"
          ],
          "name": "stdout"
        }
      ]
    },
    {
      "cell_type": "markdown",
      "metadata": {
        "id": "2vN9AMlL7w_l",
        "colab_type": "text"
      },
      "source": [
        "\n",
        "\n",
        "### Variable assignment\n",
        "Here we create a variable called name and assign it a value, which in this case, is a String, `Santosh`\n",
        "We create another variable age and assign it a numerical value, `30`"
      ]
    },
    {
      "cell_type": "code",
      "metadata": {
        "id": "OP74con989vI",
        "colab_type": "code",
        "colab": {}
      },
      "source": [
        "#Assigning a variable with a string value and a numeric value - Comment!\n",
        "name = 'Santosh'\n",
        "age = 35\n",
        "weight = 78.4"
      ],
      "execution_count": 0,
      "outputs": []
    },
    {
      "cell_type": "code",
      "metadata": {
        "id": "3zDIGJuW9B5O",
        "colab_type": "code",
        "outputId": "71371064-28c1-4773-c6e2-555a0814ac31",
        "colab": {
          "base_uri": "https://localhost:8080/",
          "height": 35
        }
      },
      "source": [
        "print(name, age, weight, sep=',')"
      ],
      "execution_count": 0,
      "outputs": [
        {
          "output_type": "stream",
          "text": [
            "Santosh,35,78.4\n"
          ],
          "name": "stdout"
        }
      ]
    },
    {
      "cell_type": "markdown",
      "metadata": {
        "id": "HLDSJ4Ww9HGX",
        "colab_type": "text"
      },
      "source": [
        "What does the following code do?"
      ]
    },
    {
      "cell_type": "code",
      "metadata": {
        "id": "ajwMkDWE9VAF",
        "colab_type": "code",
        "colab": {}
      },
      "source": [
        "age = 'Santosh'\n",
        "name = 35"
      ],
      "execution_count": 0,
      "outputs": []
    },
    {
      "cell_type": "code",
      "metadata": {
        "id": "yGDvPtdn9aPo",
        "colab_type": "code",
        "outputId": "d74edeb8-5701-4fd1-cab7-f168341cf74c",
        "colab": {
          "base_uri": "https://localhost:8080/",
          "height": 35
        }
      },
      "source": [
        "print(name, age, sep=',')"
      ],
      "execution_count": 0,
      "outputs": [
        {
          "output_type": "stream",
          "text": [
            "35,Santosh\n"
          ],
          "name": "stdout"
        }
      ]
    },
    {
      "cell_type": "markdown",
      "metadata": {
        "id": "6wieJZlE9i38",
        "colab_type": "text"
      },
      "source": [
        "Calculations & Reassignment!"
      ]
    },
    {
      "cell_type": "code",
      "metadata": {
        "id": "X9i4ZWZ19rzE",
        "colab_type": "code",
        "outputId": "ac581deb-05cf-44b3-ab0a-3696cf5fe13b",
        "colab": {
          "base_uri": "https://localhost:8080/",
          "height": 71
        }
      },
      "source": [
        "age = 35\n",
        "print(\"Current age: \", age)\n",
        "\n",
        "age = age+5\n",
        "print(\"Age after 5 years: \", age)\n",
        "\n",
        "age-=10\n",
        "print(\"Age before 5 years: \", age)"
      ],
      "execution_count": 0,
      "outputs": [
        {
          "output_type": "stream",
          "text": [
            "Current age:  35\n",
            "Age after 5 years:  40\n",
            "Age before 5 years:  30\n"
          ],
          "name": "stdout"
        }
      ]
    },
    {
      "cell_type": "markdown",
      "metadata": {
        "id": "kScUJVtl-EIT",
        "colab_type": "text"
      },
      "source": [
        "\n",
        "\n",
        "---\n",
        "\n",
        "\n",
        "\n",
        "---\n",
        "\n",
        "\n",
        "Now let us have a look at the data types of the variables that we have created!\n",
        "\n",
        "\n"
      ]
    },
    {
      "cell_type": "code",
      "metadata": {
        "id": "7L1B0CUs-vhr",
        "colab_type": "code",
        "outputId": "7c9eaf76-3ea5-490a-c608-76e9b6834b32",
        "colab": {
          "base_uri": "https://localhost:8080/",
          "height": 71
        }
      },
      "source": [
        "name = \"Santosh\"\n",
        "print(type(age), type(name), type(weight), sep='\\n')"
      ],
      "execution_count": 0,
      "outputs": [
        {
          "output_type": "stream",
          "text": [
            "<class 'int'>\n",
            "<class 'str'>\n",
            "<class 'float'>\n"
          ],
          "name": "stdout"
        }
      ]
    },
    {
      "cell_type": "code",
      "metadata": {
        "id": "VFKSLmnV-_Tl",
        "colab_type": "code",
        "outputId": "3bafabdf-d579-4521-81ba-c006183393a6",
        "colab": {
          "base_uri": "https://localhost:8080/",
          "height": 35
        }
      },
      "source": [
        "z = complex(1,3)\n",
        "print(z, \" type is: \", type(z))"
      ],
      "execution_count": 0,
      "outputs": [
        {
          "output_type": "stream",
          "text": [
            "(1+3j)  type is:  <class 'complex'>\n"
          ],
          "name": "stdout"
        }
      ]
    },
    {
      "cell_type": "code",
      "metadata": {
        "id": "cJ9XFSSABR5J",
        "colab_type": "code",
        "outputId": "f2c12bdd-f69d-4f2b-b83b-a241cf6671b4",
        "colab": {
          "base_uri": "https://localhost:8080/",
          "height": 35
        }
      },
      "source": [
        "print(z.real, z.imag)"
      ],
      "execution_count": 0,
      "outputs": [
        {
          "output_type": "stream",
          "text": [
            "1.0 3.0\n"
          ],
          "name": "stdout"
        }
      ]
    },
    {
      "cell_type": "markdown",
      "metadata": {
        "id": "aNyjH_YWCSD-",
        "colab_type": "text"
      },
      "source": [
        "### Operations\n",
        "\n",
        "|Operation| Name | Desc |\n",
        "|---|---|---|\n",
        "|a+b| Addition | Sum of a and b|\n",
        "a - b | Subtraction | Difference of a and b \n",
        "a * b|Multiplication|Product of a and b \n",
        "a / b|True division|Quotient of a and b \n",
        "a // b|Floor division|Quotient of a and b, removing fractional parts \n",
        "a % b|Modulus|Integer remainder after division of a by b \n",
        "a ** b|Exponentiation|a raised to the power of b \n",
        "-a|Negation|The negative of a\n"
      ]
    },
    {
      "cell_type": "code",
      "metadata": {
        "id": "oAsGKx81C4g8",
        "colab_type": "code",
        "outputId": "3a8ea1da-43f9-468b-ea81-40550993923f",
        "colab": {
          "base_uri": "https://localhost:8080/",
          "height": 35
        }
      },
      "source": [
        "#Try your own examples\n",
        "\n",
        "print(4+9, 9/3, 9/2, 9//2, 9%2)"
      ],
      "execution_count": 0,
      "outputs": [
        {
          "output_type": "stream",
          "text": [
            "13 3.0 4.5 4 1\n"
          ],
          "name": "stdout"
        }
      ]
    },
    {
      "cell_type": "code",
      "metadata": {
        "id": "QAUng7-HEswR",
        "colab_type": "code",
        "outputId": "cb44ffe5-26f7-4c89-e22b-d78ae5d39af1",
        "colab": {
          "base_uri": "https://localhost:8080/",
          "height": 35
        }
      },
      "source": [
        "#PEMDAS - Paranthesis, Exponentiation, Multiplication, Division, Addition and Subtraction\n",
        "\n",
        "-4 + 9/3**2"
      ],
      "execution_count": 0,
      "outputs": [
        {
          "output_type": "execute_result",
          "data": {
            "text/plain": [
              "-3.0"
            ]
          },
          "metadata": {
            "tags": []
          },
          "execution_count": 81
        }
      ]
    },
    {
      "cell_type": "markdown",
      "metadata": {
        "id": "71l9zTZhFqxP",
        "colab_type": "text"
      },
      "source": [
        "Built in functions for working with numbers."
      ]
    },
    {
      "cell_type": "code",
      "metadata": {
        "id": "jhVf6dfiGb3L",
        "colab_type": "code",
        "outputId": "2e0c510f-424d-4028-b000-ad1baceab570",
        "colab": {
          "base_uri": "https://localhost:8080/",
          "height": 53
        }
      },
      "source": [
        "print(min(3,1,5))\n",
        "print(max(3,1,5))"
      ],
      "execution_count": 0,
      "outputs": [
        {
          "output_type": "stream",
          "text": [
            "1\n",
            "5\n"
          ],
          "name": "stdout"
        }
      ]
    },
    {
      "cell_type": "code",
      "metadata": {
        "id": "YUsGfzPLGfWm",
        "colab_type": "code",
        "outputId": "1718eaab-df2f-4f5a-de81-ae886d00e998",
        "colab": {
          "base_uri": "https://localhost:8080/",
          "height": 35
        }
      },
      "source": [
        "print(abs(-2))"
      ],
      "execution_count": 0,
      "outputs": [
        {
          "output_type": "stream",
          "text": [
            "2\n"
          ],
          "name": "stdout"
        }
      ]
    },
    {
      "cell_type": "markdown",
      "metadata": {
        "id": "SmqctMLHG-EG",
        "colab_type": "text"
      },
      "source": [
        "## Exercise\n",
        "\n",
        "Swap the value of the 2 variables a and b"
      ]
    },
    {
      "cell_type": "code",
      "metadata": {
        "id": "6ZQYXNpsIaZp",
        "colab_type": "code",
        "colab": {}
      },
      "source": [
        "a = 3\n",
        "b = 4"
      ],
      "execution_count": 0,
      "outputs": []
    },
    {
      "cell_type": "code",
      "metadata": {
        "id": "Uu6KShVjIc7x",
        "colab_type": "code",
        "outputId": "9d4f281c-1228-4612-b791-b5edcc65b479",
        "colab": {
          "base_uri": "https://localhost:8080/",
          "height": 35
        }
      },
      "source": [
        "print(a,b)"
      ],
      "execution_count": 0,
      "outputs": [
        {
          "output_type": "stream",
          "text": [
            "3 4\n"
          ],
          "name": "stdout"
        }
      ]
    },
    {
      "cell_type": "markdown",
      "metadata": {
        "id": "QH8XhwoaIese",
        "colab_type": "text"
      },
      "source": [
        "Add the paranthesis to the expression below so that it evaluates to 0"
      ]
    },
    {
      "cell_type": "code",
      "metadata": {
        "id": "EfAIFYh4Iyxa",
        "colab_type": "code",
        "outputId": "c5967e08-e863-4170-e71e-6e638910822a",
        "colab": {
          "base_uri": "https://localhost:8080/",
          "height": 35
        }
      },
      "source": [
        "8 - 3 * 2 - 1 + 1"
      ],
      "execution_count": 0,
      "outputs": [
        {
          "output_type": "execute_result",
          "data": {
            "text/plain": [
              "2"
            ]
          },
          "metadata": {
            "tags": []
          },
          "execution_count": 86
        }
      ]
    },
    {
      "cell_type": "markdown",
      "metadata": {
        "id": "6FVicL5Ysctb",
        "colab_type": "text"
      },
      "source": [
        "\n",
        "\n",
        "---\n",
        "Now let us have a look at Booleans & Conditionals\n"
      ]
    },
    {
      "cell_type": "code",
      "metadata": {
        "id": "Tt9k1KmvslHP",
        "colab_type": "code",
        "outputId": "5b722ba6-0480-4640-b82e-d6d40ccaf4fa",
        "colab": {
          "base_uri": "https://localhost:8080/",
          "height": 53
        }
      },
      "source": [
        "print(True)\n",
        "print(type(True))\n"
      ],
      "execution_count": 0,
      "outputs": [
        {
          "output_type": "stream",
          "text": [
            "True\n",
            "<class 'bool'>\n"
          ],
          "name": "stdout"
        }
      ]
    },
    {
      "cell_type": "markdown",
      "metadata": {
        "id": "mRHwDuOksr7b",
        "colab_type": "text"
      },
      "source": [
        "|Operation|\tDescription|\tOperation|\tDescription|\n",
        "|:---:|:---|:---:|:---|\n",
        "a == b|\ta equal to b\t|a != b\t|a not equal to b\t\n",
        "a < b\t|a less than b\t|a > b\t|a greater than b\t\n",
        "a <= b|\ta less than or equal to b\t|a >= b\t|a greater than or equal to b\t"
      ]
    },
    {
      "cell_type": "code",
      "metadata": {
        "id": "3PxniyBrtQCu",
        "colab_type": "code",
        "outputId": "3463972f-64e0-42e4-da0e-6d066321e799",
        "colab": {
          "base_uri": "https://localhost:8080/",
          "height": 53
        }
      },
      "source": [
        "a = int(input(\"Enter a number from 1 to 100: \"))\n",
        "a<50"
      ],
      "execution_count": 0,
      "outputs": [
        {
          "output_type": "stream",
          "text": [
            "Enter a number from 1 to 100: 30\n"
          ],
          "name": "stdout"
        },
        {
          "output_type": "execute_result",
          "data": {
            "text/plain": [
              "True"
            ]
          },
          "metadata": {
            "tags": []
          },
          "execution_count": 171
        }
      ]
    },
    {
      "cell_type": "markdown",
      "metadata": {
        "id": "Q0rY_n_7tzHj",
        "colab_type": "text"
      },
      "source": [
        "Combine more than one boolean operator\n",
        "We can combine boolean operators using `and`, `or`, `not`\n",
        "\n",
        "For example, to find if a number is even and greater and 10, we can combine 2 boolean operators"
      ]
    },
    {
      "cell_type": "code",
      "metadata": {
        "id": "j2EKjRqNt85P",
        "colab_type": "code",
        "outputId": "03e78ff8-3e46-4a95-e1a7-a31be65a4ea4",
        "colab": {
          "base_uri": "https://localhost:8080/",
          "height": 53
        }
      },
      "source": [
        "number = int(input(\"Enter any number less than 1000: \"))\n",
        "(number > 10) and ((number % 2) == 0)"
      ],
      "execution_count": 0,
      "outputs": [
        {
          "output_type": "stream",
          "text": [
            "Enter any number less than 1000: 40\n"
          ],
          "name": "stdout"
        },
        {
          "output_type": "execute_result",
          "data": {
            "text/plain": [
              "True"
            ]
          },
          "metadata": {
            "tags": []
          },
          "execution_count": 173
        }
      ]
    },
    {
      "cell_type": "markdown",
      "metadata": {
        "id": "yPGYbmtduPUC",
        "colab_type": "text"
      },
      "source": [
        "### Conditionals\n",
        "Booleans will not be of much use unless combined with the Conditional Statements such as `if`, `else`, `elif`\n",
        "\n",
        "`elif` is short for else if\n",
        "\n",
        "Note the indentations in the code:\n",
        "The block of code to be executed after a successful 'if' statement is indented accordingly."
      ]
    },
    {
      "cell_type": "code",
      "metadata": {
        "id": "8bFeTij8ueAc",
        "colab_type": "code",
        "outputId": "e449a536-f17e-457a-88a6-c31cb2e07a21",
        "colab": {
          "base_uri": "https://localhost:8080/",
          "height": 71
        }
      },
      "source": [
        "def inspect(x):\n",
        "  try:\n",
        "    if x == 0:\n",
        "      print(\"Input is zero\")\n",
        "    elif x > 0:\n",
        "      print(x, \"is positive\")\n",
        "    elif x < 0:\n",
        "      print(x, \"is negative\")\n",
        "    else:\n",
        "      print(\"This condition will never be executed\")\n",
        "  except:\n",
        "      print(x, \"is unlike anything I've ever seen...\")\n",
        "\n",
        "inspect(0)\n",
        "inspect(-15)\n",
        "inspect('ISRO')"
      ],
      "execution_count": 0,
      "outputs": [
        {
          "output_type": "stream",
          "text": [
            "Input is zero\n",
            "-15 is negative\n",
            "ISRO is unlike anything I've ever seen...\n"
          ],
          "name": "stdout"
        }
      ]
    },
    {
      "cell_type": "markdown",
      "metadata": {
        "id": "CuOwxTIhI2jM",
        "colab_type": "text"
      },
      "source": [
        "\n",
        "---\n",
        "Now let us have a look at Data Structures\n"
      ]
    },
    {
      "cell_type": "markdown",
      "metadata": {
        "id": "PE1DJthSJaAo",
        "colab_type": "text"
      },
      "source": [
        "### Lists\n",
        "\n",
        "Lists are an ordered sequence of elements. Each element or value inside a list is called an item"
      ]
    },
    {
      "cell_type": "code",
      "metadata": {
        "id": "HIWShof_KJbk",
        "colab_type": "code",
        "colab": {}
      },
      "source": [
        "days_of_the_week = ['Sunday', 'Monday', 'Tuesday', 'Wednesday', 'Thursday', 'Friday', 'Saturday']"
      ],
      "execution_count": 0,
      "outputs": []
    },
    {
      "cell_type": "code",
      "metadata": {
        "id": "euRIQv66KMRx",
        "colab_type": "code",
        "colab": {}
      },
      "source": [
        "odd_numbers_below_10 = [1,3,5,7,9]"
      ],
      "execution_count": 0,
      "outputs": []
    },
    {
      "cell_type": "code",
      "metadata": {
        "id": "gqwM3mGYKNsq",
        "colab_type": "code",
        "colab": {}
      },
      "source": [
        "#List of lists is also possible!\n",
        "\n",
        "pixels = [[100,200,240], \n",
        "          [200,255,124], \n",
        "          [100,129,149]]"
      ],
      "execution_count": 0,
      "outputs": []
    },
    {
      "cell_type": "code",
      "metadata": {
        "id": "hxm4mGsCKRM-",
        "colab_type": "code",
        "colab": {}
      },
      "source": [
        "pixels = [[100,200,240], [200,300,324], [100,129,449]] #can also be written like this"
      ],
      "execution_count": 0,
      "outputs": []
    },
    {
      "cell_type": "code",
      "metadata": {
        "id": "7TnBhY6XKZ2c",
        "colab_type": "code",
        "colab": {}
      },
      "source": [
        "#Lists can also have different types of elements in them.\n",
        "different_types_of_items = ['laptop', 45, True, [4,5,6]]"
      ],
      "execution_count": 0,
      "outputs": []
    },
    {
      "cell_type": "code",
      "metadata": {
        "id": "g6y44eqSKdZq",
        "colab_type": "code",
        "colab": {}
      },
      "source": [
        "# What does this code do?\n",
        "\n",
        "a = [0] * 10"
      ],
      "execution_count": 0,
      "outputs": []
    },
    {
      "cell_type": "markdown",
      "metadata": {
        "id": "FqBPsWgDKmYz",
        "colab_type": "text"
      },
      "source": [
        "Accessing the elements of the list!"
      ]
    },
    {
      "cell_type": "markdown",
      "metadata": {
        "id": "Z2pmE-XwKvWJ",
        "colab_type": "text"
      },
      "source": [
        "List elements can be accessed by their index. The index number starts with 0"
      ]
    },
    {
      "cell_type": "markdown",
      "metadata": {
        "id": "jz9mtJndKyte",
        "colab_type": "text"
      },
      "source": [
        "|0|1|2|3|4|5|6|\n",
        "|:---:|:---:|:---:|:---:|:---:|:---:|:---:|\n",
        "|Sunday|Monday|Tuesday|Wednesday|Thursday|Friday|Saturday|\n",
        "|-7|-6|-5|-4|-3|-2|-1|"
      ]
    },
    {
      "cell_type": "code",
      "metadata": {
        "id": "QHbuan7HL9mG",
        "colab_type": "code",
        "outputId": "1fd590d8-0b90-4712-fa80-601842390251",
        "colab": {
          "base_uri": "https://localhost:8080/",
          "height": 53
        }
      },
      "source": [
        "print(days_of_the_week[0])\n",
        "print(days_of_the_week[-7])"
      ],
      "execution_count": 0,
      "outputs": [
        {
          "output_type": "stream",
          "text": [
            "Sunday\n",
            "Sunday\n"
          ],
          "name": "stdout"
        }
      ]
    },
    {
      "cell_type": "code",
      "metadata": {
        "id": "SGiOmsVLMZup",
        "colab_type": "code",
        "outputId": "5dfb37b2-53c4-4cb2-9c74-da4968b7bcee",
        "colab": {
          "base_uri": "https://localhost:8080/",
          "height": 35
        }
      },
      "source": [
        "len(days_of_the_week)"
      ],
      "execution_count": 0,
      "outputs": [
        {
          "output_type": "execute_result",
          "data": {
            "text/plain": [
              "7"
            ]
          },
          "metadata": {
            "tags": []
          },
          "execution_count": 94
        }
      ]
    },
    {
      "cell_type": "code",
      "metadata": {
        "id": "NlIaufdjMlgK",
        "colab_type": "code",
        "outputId": "c407e07e-0a19-4d5e-f97d-d45ad4e7e032",
        "colab": {
          "base_uri": "https://localhost:8080/",
          "height": 53
        }
      },
      "source": [
        "#print last day of the week\n",
        "print(days_of_the_week[len(days_of_the_week)-1])\n",
        "print(days_of_the_week[-1])"
      ],
      "execution_count": 0,
      "outputs": [
        {
          "output_type": "stream",
          "text": [
            "Saturday\n",
            "Saturday\n"
          ],
          "name": "stdout"
        }
      ]
    },
    {
      "cell_type": "code",
      "metadata": {
        "id": "JvUAMaduMqhC",
        "colab_type": "code",
        "outputId": "5962c9c6-ae0f-4e02-f132-fa357cef0896",
        "colab": {
          "base_uri": "https://localhost:8080/",
          "height": 89
        }
      },
      "source": [
        "#Slicing the list\n",
        "\n",
        "print(days_of_the_week[:])\n",
        "print(days_of_the_week[1:3])\n",
        "print(days_of_the_week[1:])\n",
        "print(days_of_the_week[:4])"
      ],
      "execution_count": 0,
      "outputs": [
        {
          "output_type": "stream",
          "text": [
            "['Sunday', 'Monday', 'Tuesday', 'Wednesday', 'Thursday', 'Friday', 'Saturday']\n",
            "['Monday', 'Tuesday']\n",
            "['Monday', 'Tuesday', 'Wednesday', 'Thursday', 'Friday', 'Saturday']\n",
            "['Sunday', 'Monday', 'Tuesday', 'Wednesday']\n"
          ],
          "name": "stdout"
        }
      ]
    },
    {
      "cell_type": "code",
      "metadata": {
        "id": "uqhYF-7YNNmc",
        "colab_type": "code",
        "outputId": "971d5a90-a5ba-4d74-b15c-a80c41127acb",
        "colab": {
          "base_uri": "https://localhost:8080/",
          "height": 35
        }
      },
      "source": [
        "print(days_of_the_week[::2])"
      ],
      "execution_count": 0,
      "outputs": [
        {
          "output_type": "stream",
          "text": [
            "['Sunday', 'Tuesday', 'Thursday', 'Saturday']\n"
          ],
          "name": "stdout"
        }
      ]
    },
    {
      "cell_type": "code",
      "metadata": {
        "id": "JZDEPaSCOmgY",
        "colab_type": "code",
        "outputId": "7180ccd5-9e78-498f-babb-82dcb9d1bf98",
        "colab": {
          "base_uri": "https://localhost:8080/",
          "height": 197
        }
      },
      "source": [
        "#Iterate through the list\n",
        "\n",
        "for days in days_of_the_week:\n",
        "  print(days)\n",
        "\n",
        "\n",
        "# append new elements to the list\n",
        "days_of_the_week.append('Holiday')\n",
        "days_of_the_week.insert(2,'Funday')\n",
        "\n",
        "print(\"1. \", days_of_the_week)\n",
        "\n",
        "days_of_the_week.pop()\n",
        "print('2. ', days_of_the_week)\n",
        "days_of_the_week.pop(2)\n",
        "print('3. ', days_of_the_week)"
      ],
      "execution_count": 0,
      "outputs": [
        {
          "output_type": "stream",
          "text": [
            "Sunday\n",
            "Monday\n",
            "Tuesday\n",
            "Wednesday\n",
            "Thursday\n",
            "Friday\n",
            "Saturday\n",
            "1.  ['Sunday', 'Monday', 'Funday', 'Tuesday', 'Wednesday', 'Thursday', 'Friday', 'Saturday', 'Holiday']\n",
            "2.  ['Sunday', 'Monday', 'Funday', 'Tuesday', 'Wednesday', 'Thursday', 'Friday', 'Saturday']\n",
            "3.  ['Sunday', 'Monday', 'Tuesday', 'Wednesday', 'Thursday', 'Friday', 'Saturday']\n"
          ],
          "name": "stdout"
        }
      ]
    },
    {
      "cell_type": "markdown",
      "metadata": {
        "id": "f8OH_ritOEdI",
        "colab_type": "text"
      },
      "source": [
        "## Exercise\n",
        "\n",
        "1. Print all the elements of the list except the first and the last element\n",
        "2. Reverse the list\n"
      ]
    },
    {
      "cell_type": "markdown",
      "metadata": {
        "id": "5Pg5mysXjFdK",
        "colab_type": "text"
      },
      "source": [
        "Let us move on to more List functions"
      ]
    },
    {
      "cell_type": "code",
      "metadata": {
        "id": "-bE76jnGkJZC",
        "colab_type": "code",
        "outputId": "59f29de0-9725-4ea5-9920-5b4e23bc95c8",
        "colab": {
          "base_uri": "https://localhost:8080/",
          "height": 35
        }
      },
      "source": [
        "len(days_of_the_week)"
      ],
      "execution_count": 0,
      "outputs": [
        {
          "output_type": "execute_result",
          "data": {
            "text/plain": [
              "9"
            ]
          },
          "metadata": {
            "tags": []
          },
          "execution_count": 117
        }
      ]
    },
    {
      "cell_type": "code",
      "metadata": {
        "id": "YMAdPkSrkMmd",
        "colab_type": "code",
        "outputId": "1e148c74-69d4-4cb2-e70f-1c307fce3153",
        "colab": {
          "base_uri": "https://localhost:8080/",
          "height": 179
        }
      },
      "source": [
        "sorted(days_of_the_week)"
      ],
      "execution_count": 0,
      "outputs": [
        {
          "output_type": "execute_result",
          "data": {
            "text/plain": [
              "['Friday',\n",
              " 'Funday',\n",
              " 'Holiday',\n",
              " 'Monday',\n",
              " 'Saturday',\n",
              " 'Sunday',\n",
              " 'Thursday',\n",
              " 'Tuesday',\n",
              " 'Wednesday']"
            ]
          },
          "metadata": {
            "tags": []
          },
          "execution_count": 118
        }
      ]
    },
    {
      "cell_type": "code",
      "metadata": {
        "id": "zYjlYSD3kPJT",
        "colab_type": "code",
        "outputId": "db81ac6d-a7ba-4389-c97f-a96f380e915e",
        "colab": {
          "base_uri": "https://localhost:8080/",
          "height": 53
        }
      },
      "source": [
        "numbers = list(range(10))\n",
        "print(numbers)\n",
        "print(sum(numbers))"
      ],
      "execution_count": 0,
      "outputs": [
        {
          "output_type": "stream",
          "text": [
            "[0, 1, 2, 3, 4, 5, 6, 7, 8, 9]\n",
            "45\n"
          ],
          "name": "stdout"
        }
      ]
    },
    {
      "cell_type": "code",
      "metadata": {
        "id": "Cmc-pC-GkXWq",
        "colab_type": "code",
        "colab": {}
      },
      "source": [
        "odd_numbers_below_10 = numbers[1::2]"
      ],
      "execution_count": 0,
      "outputs": []
    },
    {
      "cell_type": "code",
      "metadata": {
        "id": "ex0BROZCknmy",
        "colab_type": "code",
        "outputId": "3c9e117c-c0b8-4375-f939-5bb9c6f6087d",
        "colab": {
          "base_uri": "https://localhost:8080/",
          "height": 35
        }
      },
      "source": [
        "odd_numbers_below_10"
      ],
      "execution_count": 0,
      "outputs": [
        {
          "output_type": "execute_result",
          "data": {
            "text/plain": [
              "[1, 3, 5, 7, 9]"
            ]
          },
          "metadata": {
            "tags": []
          },
          "execution_count": 123
        }
      ]
    },
    {
      "cell_type": "code",
      "metadata": {
        "id": "30fxO1aOko9a",
        "colab_type": "code",
        "outputId": "db5ca6e0-68de-4bfc-84cb-679996c1f0fa",
        "colab": {
          "base_uri": "https://localhost:8080/",
          "height": 35
        }
      },
      "source": [
        "'Fri' in days_of_the_week"
      ],
      "execution_count": 0,
      "outputs": [
        {
          "output_type": "execute_result",
          "data": {
            "text/plain": [
              "False"
            ]
          },
          "metadata": {
            "tags": []
          },
          "execution_count": 131
        }
      ]
    },
    {
      "cell_type": "code",
      "metadata": {
        "id": "ENotaykXlhcL",
        "colab_type": "code",
        "outputId": "099c58ab-65d8-4376-efbc-c18df7236d59",
        "colab": {
          "base_uri": "https://localhost:8080/",
          "height": 35
        }
      },
      "source": [
        "days_of_the_week.index('Monday')"
      ],
      "execution_count": 0,
      "outputs": [
        {
          "output_type": "execute_result",
          "data": {
            "text/plain": [
              "1"
            ]
          },
          "metadata": {
            "tags": []
          },
          "execution_count": 133
        }
      ]
    },
    {
      "cell_type": "markdown",
      "metadata": {
        "id": "Gbx1Eohclu8_",
        "colab_type": "text"
      },
      "source": [
        "### List Comprehensions"
      ]
    },
    {
      "cell_type": "markdown",
      "metadata": {
        "id": "c5gXantEmXXy",
        "colab_type": "text"
      },
      "source": [
        "List comprehensions provide a concise way to create lists.\n",
        "\n",
        "It consists of brackets containing an expression followed by a `for` clause, then zero or more `for` or `if` clauses. The expressions can be anything, meaning you can put in all kinds of objects in lists.\n",
        "\n",
        "The result will be a new list resulting from evaluating the expression in the context of the for and if clauses which follow it.\n",
        "\n",
        "The list comprehension always returns a result list."
      ]
    },
    {
      "cell_type": "code",
      "metadata": {
        "id": "JUoyUpPCmbO8",
        "colab_type": "code",
        "outputId": "bd480df8-6e61-4b41-bb1f-9d01abf70cd5",
        "colab": {
          "base_uri": "https://localhost:8080/",
          "height": 35
        }
      },
      "source": [
        "[len(days) for days in days_of_the_week]"
      ],
      "execution_count": 0,
      "outputs": [
        {
          "output_type": "execute_result",
          "data": {
            "text/plain": [
              "[6, 6, 7, 9, 8, 6, 8]"
            ]
          },
          "metadata": {
            "tags": []
          },
          "execution_count": 147
        }
      ]
    },
    {
      "cell_type": "code",
      "metadata": {
        "id": "kzys1oy4nV8s",
        "colab_type": "code",
        "outputId": "942311c4-57af-4909-e82b-4575d439a04d",
        "colab": {
          "base_uri": "https://localhost:8080/",
          "height": 35
        }
      },
      "source": [
        "# We can also add an if condition\n",
        "\n",
        "[a for a in range(10) if a%2 == 0 and a!=0]"
      ],
      "execution_count": 0,
      "outputs": [
        {
          "output_type": "execute_result",
          "data": {
            "text/plain": [
              "[2, 4, 6, 8]"
            ]
          },
          "metadata": {
            "tags": []
          },
          "execution_count": 154
        }
      ]
    },
    {
      "cell_type": "markdown",
      "metadata": {
        "id": "YBF-U2vkoNc4",
        "colab_type": "text"
      },
      "source": [
        "## Exercise\n",
        "The first element in each team list is the captain.\n",
        "The last element is each team list is the coach.\n",
        "* Extract the captain of the third placed team. \n",
        "* Extract the coach of the top two teams.\n",
        "\n",
        "Use only single line of codes for each of the tasks!"
      ]
    },
    {
      "cell_type": "code",
      "metadata": {
        "id": "aIpmhFqWoliZ",
        "colab_type": "code",
        "outputId": "1cccbad4-4aa9-414e-bc5c-016cd30979b2",
        "colab": {
          "base_uri": "https://localhost:8080/",
          "height": 35
        }
      },
      "source": [
        "first_team = ['A', 'B', 'C', 'D', 'M']\n",
        "second_team = ['E', 'F', 'G', 'H', 'N']\n",
        "third_team = ['I', 'J', 'K', 'L', 'O']\n",
        "\n",
        "list_of_teams = [first_team,second_team,third_team]\n",
        "\n",
        "print(list_of_teams)"
      ],
      "execution_count": 0,
      "outputs": [
        {
          "output_type": "stream",
          "text": [
            "[['A', 'B', 'C', 'D', 'M'], ['E', 'F', 'G', 'H', 'N'], ['I', 'J', 'K', 'L', 'O']]\n"
          ],
          "name": "stdout"
        }
      ]
    },
    {
      "cell_type": "markdown",
      "metadata": {
        "id": "KGsVZTDApCiM",
        "colab_type": "text"
      },
      "source": [
        "Get the count of negative numbers in the list using List Comprehension"
      ]
    },
    {
      "cell_type": "code",
      "metadata": {
        "id": "TgDLX8wGrhU2",
        "colab_type": "code",
        "colab": {}
      },
      "source": [
        "a = [-1,3,4,2,-3,-9]"
      ],
      "execution_count": 0,
      "outputs": []
    },
    {
      "cell_type": "markdown",
      "metadata": {
        "id": "UhS2B3HjwU4o",
        "colab_type": "text"
      },
      "source": [
        "## Homework\n",
        "\n",
        "* Find out about sets and tuples.\n",
        "* What is the difference between lists and tuples?"
      ]
    },
    {
      "cell_type": "code",
      "metadata": {
        "id": "nNdlOfbBwhN1",
        "colab_type": "code",
        "colab": {}
      },
      "source": [
        ""
      ],
      "execution_count": 0,
      "outputs": []
    }
  ]
}